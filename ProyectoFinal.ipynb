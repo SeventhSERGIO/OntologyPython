{
 "cells": [
  {
   "cell_type": "markdown",
   "id": "c3d73b7f-e330-4679-b8ea-81d98a37df1c",
   "metadata": {},
   "source": [
    "# Representación del conocimiento"
   ]
  },
  {
   "cell_type": "markdown",
   "id": "bdf3d26b-a411-491b-bf6d-46da6a31514f",
   "metadata": {},
   "source": [
    "El proyecto se realizó con Python 3.9, utilizando solo las librerías estándar para el desarrollo. La ontología ejemplo que se utilizó para mostrar el funcionamiento de los predicados es la mencionada en [Pineda (2020)](https://www.sciencedirect.com/science/article/abs/pii/S0306457319309240) (Fig. 2. Non-Monotonic Ontology), a la cual únicamente se le hicieron cambios menores. El árbol de la ontología se muestra en la siguiente figura."
   ]
  },
  {
   "cell_type": "markdown",
   "id": "32ee8d5b-0862-4944-81a8-2c4468f28185",
   "metadata": {},
   "source": [
    "![](arbolinicio.png)"
   ]
  },
  {
   "cell_type": "markdown",
   "id": "68615483-f3ae-4b89-8883-264d6c3224a4",
   "metadata": {},
   "source": [
    "Importar una ontología. "
   ]
  },
  {
   "cell_type": "code",
   "execution_count": 1,
   "id": "ffc87adc-0573-43ee-8133-289615b36812",
   "metadata": {
    "execution": {
     "iopub.execute_input": "2021-12-16T05:00:10.686568Z",
     "iopub.status.busy": "2021-12-16T05:00:10.686175Z",
     "iopub.status.idle": "2021-12-16T05:00:10.698806Z",
     "shell.execute_reply": "2021-12-16T05:00:10.697886Z",
     "shell.execute_reply.started": "2021-12-16T05:00:10.686462Z"
    },
    "tags": []
   },
   "outputs": [],
   "source": [
    "import json\n",
    "with open('ontology.json') as json_file:\n",
    "    data = json.load(json_file)\n",
    "ontology = data['ontology']"
   ]
  },
  {
   "cell_type": "code",
   "execution_count": 2,
   "id": "24661cd9-2573-4c98-8802-9d8de9ac382b",
   "metadata": {
    "execution": {
     "iopub.execute_input": "2021-12-16T05:00:10.700844Z",
     "iopub.status.busy": "2021-12-16T05:00:10.700638Z",
     "iopub.status.idle": "2021-12-16T05:00:10.705718Z",
     "shell.execute_reply": "2021-12-16T05:00:10.704975Z",
     "shell.execute_reply.started": "2021-12-16T05:00:10.700823Z"
    }
   },
   "outputs": [],
   "source": [
    "#Guarda la ontología en un archivo \n",
    "def saveOntology(ontology):\n",
    "    outData = {\"ontology\":ontology}\n",
    "    with open('ontology.json', 'w') as outfile:\n",
    "        json.dump(outData, outfile)"
   ]
  },
  {
   "cell_type": "markdown",
   "id": "2d946909-2a48-446e-a0c3-e57b00a7209b",
   "metadata": {},
   "source": [
    "Importar funciones auxiliares:"
   ]
  },
  {
   "cell_type": "code",
   "execution_count": 3,
   "id": "93d0f39a-401c-4e97-83c8-0123a9c08c4e",
   "metadata": {
    "execution": {
     "iopub.execute_input": "2021-12-16T05:00:10.706859Z",
     "iopub.status.busy": "2021-12-16T05:00:10.706681Z",
     "iopub.status.idle": "2021-12-16T05:00:10.711296Z",
     "shell.execute_reply": "2021-12-16T05:00:10.710744Z",
     "shell.execute_reply.started": "2021-12-16T05:00:10.706834Z"
    },
    "tags": []
   },
   "outputs": [],
   "source": [
    "from OntologyFunctions import *"
   ]
  },
  {
   "cell_type": "markdown",
   "id": "f723d299-bc2d-47e1-bbe6-88ce81b04840",
   "metadata": {
    "tags": []
   },
   "source": [
    "## 1. Predicados para consultar"
   ]
  },
  {
   "cell_type": "markdown",
   "id": "356170cf-5021-41fe-a94d-40f463793a75",
   "metadata": {
    "tags": []
   },
   "source": [
    "### a) Extensión de una clase"
   ]
  },
  {
   "cell_type": "markdown",
   "id": "b002716a-a25c-4a9b-9985-5736167f3ee3",
   "metadata": {},
   "source": [
    "Obtiene el conjunto de todos los objetos que pertenecen a una clase nameClase (string) o subclase de la misma, dentro de la ontologia (list), ya sea porque se declaren directamente o porque están en la cerradura de la relación de herencia. "
   ]
  },
  {
   "cell_type": "code",
   "execution_count": 4,
   "id": "f60aeb86-ee1b-4176-81c7-e97767d9ae92",
   "metadata": {
    "execution": {
     "iopub.execute_input": "2021-12-16T05:00:10.712171Z",
     "iopub.status.busy": "2021-12-16T05:00:10.712069Z",
     "iopub.status.idle": "2021-12-16T05:00:10.719509Z",
     "shell.execute_reply": "2021-12-16T05:00:10.718071Z",
     "shell.execute_reply.started": "2021-12-16T05:00:10.712159Z"
    }
   },
   "outputs": [],
   "source": [
    "def classExtention(nameClase,ontology):\n",
    "    if not isInClass(nameClase,ontology): #Si no está en \n",
    "        return []                         #devolver una lista vacía\n",
    "    individuals = []\n",
    "    subClases = findSubClases(nameClase,ontology) #Obtener las sublclases de la clase\n",
    "    indx = getIndex(nameClase, ontology) #Obtener el indice de la clase\n",
    "    subClases.append(ontology[indx]) #Agregar la clase a la lista \n",
    "    for subClase in subClases: #Por cada clase o subclase\n",
    "        for individual in subClase['individuals']: #Iterar por sus individuos\n",
    "            individuals.append(individual['id'])   #Agregarlos a la lista de retorno\n",
    "    return individuals"
   ]
  },
  {
   "cell_type": "markdown",
   "id": "0cc25bab-aa02-41ff-9338-d7e3f7e4903d",
   "metadata": {},
   "source": [
    "### Ejemplo 1"
   ]
  },
  {
   "cell_type": "code",
   "execution_count": 5,
   "id": "5b3abbfd-ba1f-4af9-a2f5-a09914938f1b",
   "metadata": {
    "execution": {
     "iopub.execute_input": "2021-12-16T05:00:10.721758Z",
     "iopub.status.busy": "2021-12-16T05:00:10.721597Z",
     "iopub.status.idle": "2021-12-16T05:00:10.727308Z",
     "shell.execute_reply": "2021-12-16T05:00:10.727022Z",
     "shell.execute_reply.started": "2021-12-16T05:00:10.721743Z"
    }
   },
   "outputs": [
    {
     "data": {
      "text/plain": [
       "['pete', 'anne', 'mary', 'tom', '200', '201', '202', '203', 'prog', 'ai']"
      ]
     },
     "execution_count": 5,
     "metadata": {},
     "output_type": "execute_result"
    }
   ],
   "source": [
    "classExtention(\"top\",ontology)"
   ]
  },
  {
   "cell_type": "markdown",
   "id": "6889f9f3-9a94-4faa-85f0-66c5a0148321",
   "metadata": {},
   "source": [
    "### Ejemplo 2"
   ]
  },
  {
   "cell_type": "code",
   "execution_count": 6,
   "id": "a541c89b-63ba-43c5-9c83-ceb0160974ca",
   "metadata": {
    "execution": {
     "iopub.execute_input": "2021-12-16T05:00:10.727821Z",
     "iopub.status.busy": "2021-12-16T05:00:10.727747Z",
     "iopub.status.idle": "2021-12-16T05:00:10.730441Z",
     "shell.execute_reply": "2021-12-16T05:00:10.730137Z",
     "shell.execute_reply.started": "2021-12-16T05:00:10.727811Z"
    }
   },
   "outputs": [
    {
     "data": {
      "text/plain": [
       "['prog', 'ai']"
      ]
     },
     "execution_count": 6,
     "metadata": {},
     "output_type": "execute_result"
    }
   ],
   "source": [
    "classExtention(\"abstract\",ontology)"
   ]
  },
  {
   "cell_type": "markdown",
   "id": "11642c37-ebd5-4234-a4af-fd5e4682a88f",
   "metadata": {},
   "source": [
    "### b) La extensión de una propiedad "
   ]
  },
  {
   "cell_type": "markdown",
   "id": "40928028-e233-443a-8cd3-18a44bb393ca",
   "metadata": {},
   "source": [
    "Obtiene la extensión de una propiedad, muestra todos los objetos/clases que tienen una propiedad especifica, por declaración directa o por relación de herencia, incluyendo su valor respectivo. Para la implementación de este predicado se utiliza la función _getAllPropertiesThatMatch la cual encuentra todas las propiedades que coinciden con la ingresada por el usuario."
   ]
  },
  {
   "cell_type": "code",
   "execution_count": 7,
   "id": "6aad1955-f1db-4e6a-9e95-d89424beff4d",
   "metadata": {
    "execution": {
     "iopub.execute_input": "2021-12-16T05:00:10.731163Z",
     "iopub.status.busy": "2021-12-16T05:00:10.730984Z",
     "iopub.status.idle": "2021-12-16T05:00:10.733805Z",
     "shell.execute_reply": "2021-12-16T05:00:10.733391Z",
     "shell.execute_reply.started": "2021-12-16T05:00:10.731151Z"
    },
    "tags": []
   },
   "outputs": [],
   "source": [
    "def propertyExtension(nameProperty, ontology, *, boolean=True):\n",
    "    # Obtiene la raiz de la ontologia\n",
    "    rootClass = superClassOfOntology(ontology)\n",
    "    # Obtiene todos los individuos de la ontologia\n",
    "    allIndividuals = classExtention(rootClass,ontology)\n",
    "    # Obtiene todas las clases de la ontologia\n",
    "    allClasses = [clase[1] for clase in hierarchyTree(ontology)]\n",
    "    # Obtiene todos los entidades (individuos-clases) que cumplen con cierta propiedad\n",
    "    valueIndividuals = getAllPropertiesThatMatch(nameProperty, allIndividuals, ontology, propertiesOf=propertiesOfObject,boolean=boolean)\n",
    "    valueClasses = getAllPropertiesThatMatch(nameProperty, allClasses, ontology, propertiesOf=propertiesOfClass,boolean=boolean)\n",
    "    # Une las dos entidades\n",
    "    return valueIndividuals | valueClasses"
   ]
  },
  {
   "cell_type": "markdown",
   "id": "98afb28a-4a27-41ac-a681-5feeac69af40",
   "metadata": {
    "tags": []
   },
   "source": [
    "### Ejemplo 1"
   ]
  },
  {
   "cell_type": "code",
   "execution_count": 8,
   "id": "e62a5159-43e0-48ed-b18b-23f95c0323ca",
   "metadata": {
    "execution": {
     "iopub.execute_input": "2021-12-16T05:00:10.734583Z",
     "iopub.status.busy": "2021-12-16T05:00:10.734481Z",
     "iopub.status.idle": "2021-12-16T05:00:10.739007Z",
     "shell.execute_reply": "2021-12-16T05:00:10.738721Z",
     "shell.execute_reply.started": "2021-12-16T05:00:10.734571Z"
    }
   },
   "outputs": [
    {
     "data": {
      "text/plain": [
       "{'pete': 'uk', 'anne': 'mexico'}"
      ]
     },
     "execution_count": 8,
     "metadata": {},
     "output_type": "execute_result"
    }
   ],
   "source": [
    " propertyExtension(\"study\", ontology)"
   ]
  },
  {
   "cell_type": "markdown",
   "id": "42da74c7-2063-4914-97ed-fe1b976461b2",
   "metadata": {
    "tags": []
   },
   "source": [
    "### Ejemplo 2"
   ]
  },
  {
   "cell_type": "code",
   "execution_count": 9,
   "id": "80c37d82-6e66-4e6b-ba7f-0ef023634081",
   "metadata": {
    "execution": {
     "iopub.execute_input": "2021-12-16T05:00:10.739526Z",
     "iopub.status.busy": "2021-12-16T05:00:10.739459Z",
     "iopub.status.idle": "2021-12-16T05:00:10.743968Z",
     "shell.execute_reply": "2021-12-16T05:00:10.743712Z",
     "shell.execute_reply.started": "2021-12-16T05:00:10.739517Z"
    },
    "tags": []
   },
   "outputs": [
    {
     "data": {
      "text/plain": [
       "{'pete': True, 'anne': True, 'tom': True, 'students': True}"
      ]
     },
     "execution_count": 9,
     "metadata": {},
     "output_type": "execute_result"
    }
   ],
   "source": [
    " propertyExtension(\"sport\", ontology)"
   ]
  },
  {
   "cell_type": "markdown",
   "id": "35051566-732b-41c0-be7c-2b1e27730d5a",
   "metadata": {
    "tags": []
   },
   "source": [
    "### Ejemplo 3"
   ]
  },
  {
   "cell_type": "code",
   "execution_count": 10,
   "id": "aec8f511-bf1f-454a-878b-eafa8e89b58c",
   "metadata": {
    "execution": {
     "iopub.execute_input": "2021-12-16T05:00:10.744398Z",
     "iopub.status.busy": "2021-12-16T05:00:10.744332Z",
     "iopub.status.idle": "2021-12-16T05:00:10.748593Z",
     "shell.execute_reply": "2021-12-16T05:00:10.748352Z",
     "shell.execute_reply.started": "2021-12-16T05:00:10.744390Z"
    },
    "tags": []
   },
   "outputs": [
    {
     "data": {
      "text/plain": [
       "{'mary': False,\n",
       " 'people': False,\n",
       " 'faculty members': False,\n",
       " 'library staff': False}"
      ]
     },
     "execution_count": 10,
     "metadata": {},
     "output_type": "execute_result"
    }
   ],
   "source": [
    " propertyExtension(\"sport\", ontology, boolean=False)"
   ]
  },
  {
   "cell_type": "markdown",
   "id": "d6cf1a7a-1da6-4538-965f-7ba4ba579df3",
   "metadata": {},
   "source": [
    "### c) La extensión de una relación"
   ]
  },
  {
   "cell_type": "markdown",
   "id": "31ef71b9-0aed-4099-bb5e-d5ac56eef8e0",
   "metadata": {},
   "source": [
    "Obtiene todos los individuos que tienen una relación ya sea por declaración directa o porque su clase o clases superiores tienen declarada esta extensión, muestra las extensiones y su valor.\n",
    " "
   ]
  },
  {
   "cell_type": "code",
   "execution_count": 11,
   "id": "6fe3552a-b90e-495b-98bf-d490e9878a0e",
   "metadata": {
    "execution": {
     "iopub.execute_input": "2021-12-16T05:00:10.749110Z",
     "iopub.status.busy": "2021-12-16T05:00:10.749046Z",
     "iopub.status.idle": "2021-12-16T05:00:10.754629Z",
     "shell.execute_reply": "2021-12-16T05:00:10.754386Z",
     "shell.execute_reply.started": "2021-12-16T05:00:10.749102Z"
    },
    "tags": []
   },
   "outputs": [],
   "source": [
    "def relation_extension(relacion,ontology):\n",
    "    #clases que tienen la relacion de forma directa\n",
    "    clases_ = clasesConEstaRelacion(relacion,ontology)\n",
    "    \n",
    "    #arbol de gerarquia para ordenar\n",
    "    tree = hierarchyTree(ontology)\n",
    "    tree.reverse()\n",
    "    #ordenar las clases por aparicion gerarquica en la lista\n",
    "    #clases mas al fondo del arbol con menos gerarquia\n",
    "    clasesOrdenadas = []\n",
    "    for class_tree in tree:\n",
    "        for class_ in clases_:\n",
    "            if class_ == class_tree[1]:\n",
    "                clasesOrdenadas.append(class_)\n",
    "    \n",
    "    #buscar las subclases de cada clase que tiene la propiedad\n",
    "    #para extenderle la relacion si no la tiene\n",
    "    class_subclass = []\n",
    "   \n",
    "    for class_ in clasesOrdenadas:\n",
    "        reg =[]\n",
    "        reg.append([class_,[]])\n",
    "        temp = []\n",
    "        sub = findSubClases(class_,ontology)\n",
    "        for sub_ in sub:\n",
    "            temp.append(sub_[\"clase\"])\n",
    "        reg[0][1].extend(temp)\n",
    "        class_subclass.extend(reg)\n",
    "    \n",
    "    ontologyCopy = copy.deepcopy(ontology)\n",
    "    \n",
    "    #heredar la relacion a subclases\n",
    "    \n",
    "    for class_root in class_subclass: ## por cada super clase aplica a cada una de sus subclases\n",
    "        for sub_class in class_root[1]:#por cada subclase  de la superclase\n",
    "            #verifica que la subclase tenga la relacion\n",
    "            agregar = True\n",
    "            # por cada relacion que contiene la sub clase, busca si tiene la relacion buscada\n",
    "            for relacion_ in ontologyCopy[ getIndex(sub_class,ontologyCopy) ][\"relations\"]:\n",
    "                #si la relacion existe marca agregar como falso, si no existe se agregara \n",
    "                if relacion_[\"subject\"] == relacion:\n",
    "                    agregar = False\n",
    "                    break\n",
    "            #si la subclase no tiene la relacion, heradala de su superclase\n",
    "            if agregar is True:        \n",
    "                # guarda la relcion que se debe de heredar\n",
    "                rel_herencia = ontologyCopy[ getIndex(class_root[0],ontologyCopy) ][\"relations\"][getIndexOfRelation(relacion,class_root[0],ontologyCopy)]\n",
    "                # se agrega la relacion a la subclase\n",
    "                ontologyCopy[ getIndex(sub_class,ontologyCopy) ][\"relations\"].append(rel_herencia)\n",
    "    clasesConRelacion = clasesConEstaRelacion(relacion,ontologyCopy)            \n",
    "    # hasta aquí regresa las clases que tiene esa propiedad pero no su valor\n",
    "    #return clasesConRelacion\n",
    "    #print(clasesConRelacion)\n",
    "    claseYvalorDeRelacion = []\n",
    "    for class_ in clasesConRelacion:\n",
    "        claseYvalorDeRelacion.append ([class_, ontologyCopy[ getIndex(class_,ontologyCopy) ][\"relations\"][getIndexOfRelation(relacion,class_,ontologyCopy)] ] )\n",
    "    # hasta aquí existen las clases con su valor\n",
    "    #return claseYvalorDeRelacion\n",
    "    #print(claseYvalorDeRelacion)\n",
    "\n",
    "    #para cada clase, ahora extender la herencia de la relacion a los sujetos de cada clase si es que no la tienen\n",
    "    for class_ in clasesConRelacion:\n",
    "        # obtiene la relacion de clase\n",
    "        relacionDeClase = ontologyCopy[ getIndex(class_,ontologyCopy) ][\"relations\"][getIndexOfRelation(relacion,class_,ontologyCopy)]\n",
    "        # obtiene la clase\n",
    "        claseActual = ontologyCopy[ getIndex(class_,ontologyCopy) ]\n",
    "        #indice temporal del individuo\n",
    "        indiceIndividuo = -1\n",
    "        \n",
    "        #para cada individuo de la clase heredar la relacion si no la tiene declarada\n",
    "        for i,individuo in enumerate(claseActual[\"individuals\"]):\n",
    "            #print(claseActual)\n",
    "            #print(individuo[\"id\"])\n",
    "            # indica si es necesario que se agregue la relacion al individuo\n",
    "            agregarRelacionAIndividuo = True\n",
    "            for k,relacionesDeIndividuo in enumerate(individuo[\"relations\"]):\n",
    "                if relacionesDeIndividuo[\"subject\"] == relacion: # ya esta la relacion en el individuo\n",
    "                    agregarRelacionAIndividuo = False\n",
    "                    break\n",
    "                    \n",
    "            if agregarRelacionAIndividuo is True:\n",
    "                ontologyCopy[ getIndex(class_,ontologyCopy) ][\"individuals\"][i][\"relations\"].append(relacionDeClase)\n",
    "    \n",
    "    result = individualWithRelationship(relacion,ontologyCopy)\n",
    "    return result\n",
    "    "
   ]
  },
  {
   "cell_type": "markdown",
   "id": "db93f3d8-7270-4fcd-8451-74c518bc5b05",
   "metadata": {},
   "source": [
    "### Ejemplo 1"
   ]
  },
  {
   "cell_type": "code",
   "execution_count": 12,
   "id": "a429957b-4891-4c92-a1d3-9804309447e7",
   "metadata": {
    "execution": {
     "iopub.execute_input": "2021-12-16T05:00:10.755159Z",
     "iopub.status.busy": "2021-12-16T05:00:10.755093Z",
     "iopub.status.idle": "2021-12-16T05:00:10.757762Z",
     "shell.execute_reply": "2021-12-16T05:00:10.757542Z",
     "shell.execute_reply.started": "2021-12-16T05:00:10.755151Z"
    },
    "tags": []
   },
   "outputs": [
    {
     "data": {
      "text/plain": [
       "[['pete',\n",
       "  {'type': 'value',\n",
       "   'subject': 'enrolled',\n",
       "   'object': 'prog',\n",
       "   'value': False,\n",
       "   'priority': 0}],\n",
       " ['anne',\n",
       "  {'type': 'value',\n",
       "   'subject': 'enrolled',\n",
       "   'object': ['ai', 'prog'],\n",
       "   'value': True,\n",
       "   'priority': 0}]]"
      ]
     },
     "execution_count": 12,
     "metadata": {},
     "output_type": "execute_result"
    }
   ],
   "source": [
    "relation_extension(\"enrolled\", ontology)"
   ]
  },
  {
   "cell_type": "markdown",
   "id": "065db3b6-d825-411c-aea9-963d71681b93",
   "metadata": {},
   "source": [
    "### Ejemplo 2"
   ]
  },
  {
   "cell_type": "code",
   "execution_count": 13,
   "id": "01de1da9-da1f-4ba4-9b3a-3fa03a21a9ea",
   "metadata": {
    "execution": {
     "iopub.execute_input": "2021-12-16T05:00:10.758304Z",
     "iopub.status.busy": "2021-12-16T05:00:10.758201Z",
     "iopub.status.idle": "2021-12-16T05:00:10.760919Z",
     "shell.execute_reply": "2021-12-16T05:00:10.760685Z",
     "shell.execute_reply.started": "2021-12-16T05:00:10.758296Z"
    },
    "tags": []
   },
   "outputs": [
    {
     "data": {
      "text/plain": [
       "[['prog',\n",
       "  {'type': 'value', 'subject': 'at', 'object': ['200', '201'], 'priority': 0}],\n",
       " ['ai',\n",
       "  {'type': 'value', 'subject': 'at', 'object': ['201', '202'], 'priority': 0}]]"
      ]
     },
     "execution_count": 13,
     "metadata": {},
     "output_type": "execute_result"
    }
   ],
   "source": [
    "relation_extension(\"at\", ontology)"
   ]
  },
  {
   "cell_type": "markdown",
   "id": "8bdbc8b0-f716-494f-9bc1-f1a4b0b09bb0",
   "metadata": {},
   "source": [
    "### d) Todas las clases a las que pertenece un objeto"
   ]
  },
  {
   "cell_type": "markdown",
   "id": "990309f0-945c-4132-b03f-a33d417222b2",
   "metadata": {},
   "source": [
    "Obtiene una lista con todas las clases de la ontología (list)  a las que pertenece un objeto nameObject (string)."
   ]
  },
  {
   "cell_type": "code",
   "execution_count": 14,
   "id": "9218d3c9-96e2-47ec-b624-37174b5c3d59",
   "metadata": {
    "execution": {
     "iopub.execute_input": "2021-12-16T05:00:10.763232Z",
     "iopub.status.busy": "2021-12-16T05:00:10.763132Z",
     "iopub.status.idle": "2021-12-16T05:00:10.765004Z",
     "shell.execute_reply": "2021-12-16T05:00:10.764786Z",
     "shell.execute_reply.started": "2021-12-16T05:00:10.763222Z"
    },
    "tags": []
   },
   "outputs": [],
   "source": [
    "def allObjectClasses(nameObject, ontology):\n",
    "    clases = []\n",
    "    for clase in ontology: #Por cada clase de la ontología\n",
    "         #Si el objeto pertenece a la extensión de la clase\n",
    "        if nameObject in classExtention(clase['clase'],ontology):\n",
    "            clases.append(clase['clase']) #El objeto pertenece a la clase\n",
    "    return clases"
   ]
  },
  {
   "cell_type": "markdown",
   "id": "502f3314-e435-46cd-8248-41017944394f",
   "metadata": {
    "tags": []
   },
   "source": [
    "### Ejemplo 1"
   ]
  },
  {
   "cell_type": "code",
   "execution_count": 15,
   "id": "819f3c0f-ecf8-41c8-8741-0089d9a88073",
   "metadata": {
    "execution": {
     "iopub.execute_input": "2021-12-16T05:00:10.765429Z",
     "iopub.status.busy": "2021-12-16T05:00:10.765371Z",
     "iopub.status.idle": "2021-12-16T05:00:10.767803Z",
     "shell.execute_reply": "2021-12-16T05:00:10.767582Z",
     "shell.execute_reply.started": "2021-12-16T05:00:10.765422Z"
    },
    "tags": []
   },
   "outputs": [
    {
     "data": {
      "text/plain": [
       "['top', 'objects', 'concrete', 'people', 'students']"
      ]
     },
     "execution_count": 15,
     "metadata": {},
     "output_type": "execute_result"
    }
   ],
   "source": [
    "allObjectClasses(\"pete\", ontology)"
   ]
  },
  {
   "cell_type": "markdown",
   "id": "4e47b467-9357-474a-af57-a28d8a4b2338",
   "metadata": {},
   "source": [
    "### Ejemplo 2"
   ]
  },
  {
   "cell_type": "code",
   "execution_count": 16,
   "id": "a14f06f8-b6dd-4a3a-a799-a8c2420b1d25",
   "metadata": {
    "execution": {
     "iopub.execute_input": "2021-12-16T05:00:10.768372Z",
     "iopub.status.busy": "2021-12-16T05:00:10.768266Z",
     "iopub.status.idle": "2021-12-16T05:00:10.770758Z",
     "shell.execute_reply": "2021-12-16T05:00:10.770448Z",
     "shell.execute_reply.started": "2021-12-16T05:00:10.768364Z"
    },
    "tags": []
   },
   "outputs": [
    {
     "data": {
      "text/plain": [
       "['top', 'objects', 'abstract', 'courses']"
      ]
     },
     "execution_count": 16,
     "metadata": {},
     "output_type": "execute_result"
    }
   ],
   "source": [
    "allObjectClasses(\"ai\", ontology)"
   ]
  },
  {
   "cell_type": "markdown",
   "id": "a85b27f4-b958-46ea-8f40-587b1666611a",
   "metadata": {},
   "source": [
    "### e) Todas las propiedades de un objeto o clase"
   ]
  },
  {
   "cell_type": "markdown",
   "id": "6549c0ba-e24e-4971-ac8a-facb981a032f",
   "metadata": {},
   "source": [
    "#### Propiedades de un objeto"
   ]
  },
  {
   "cell_type": "markdown",
   "id": "9b396eef-1980-4733-88a2-90703f2b552d",
   "metadata": {},
   "source": [
    "Obtiene una lista con todas las propiedades de un objeto, ya sea por declaración directa o por relación de herencia. Regresa la descripción completa de cada una de las propiedades (valor, tipo, etc). Si no encuentra el objeto dentro de la ontología regresa un a lista vacía. Utiliza la función _getPropertiesByInheritance la cual retorna las propiedades relacionadas por herencia a ese objeto.\n"
   ]
  },
  {
   "cell_type": "code",
   "execution_count": 17,
   "id": "814752a1-efc9-48b2-85b6-7302aa9c3141",
   "metadata": {
    "execution": {
     "iopub.execute_input": "2021-12-16T05:00:10.771235Z",
     "iopub.status.busy": "2021-12-16T05:00:10.771154Z",
     "iopub.status.idle": "2021-12-16T05:00:10.774123Z",
     "shell.execute_reply": "2021-12-16T05:00:10.773871Z",
     "shell.execute_reply.started": "2021-12-16T05:00:10.771225Z"
    },
    "tags": []
   },
   "outputs": [],
   "source": [
    "def propertiesOfObject(nameObject, ontology):\n",
    "    \n",
    "    # Obtiene todas las clases de la ontología (list) a las que pertenece un objeto nameObject (string)\n",
    "    classes = allObjectClasses(nameObject, ontology)\n",
    "    # Si no pertenece a ninguna clase mandar mensaje de error\n",
    "    if not classes: \n",
    "        return []\n",
    "    \n",
    "    rootClass = superClassOfOntology(ontology)\n",
    "    \n",
    "    # Ordena las clases segun el grado de herencia\n",
    "    classes = [clase['clase'] for clase in findSubClases(rootClass, ontology) \n",
    "              if clase['clase'] in classes]\n",
    "    classes = classes[::-1]\n",
    "    \n",
    "    # Clase directa del individuo\n",
    "    clase = getObjectClass(nameObject,ontology) \n",
    "    # Indice de la clase\n",
    "    indxClass = getIndex(clase, ontology)\n",
    "    # Indice del individuo en la clase\n",
    "    indxObject = getIndexObject(nameObject, clase, ontology)\n",
    "    \n",
    "    # Obtiene las propiedades del individuo\n",
    "    indvProp = ontology[indxClass]['individuals'][indxObject]['properties'].copy()\n",
    "    \n",
    "    # Obtiene los nombres de las propiedades elegidas hasta ese momento\n",
    "    choosen = [element['name'] for element in indvProp]\n",
    "    \n",
    "    properties = getPropertiesByInheritance(classes, ontology, properties=indvProp, choosen=choosen)\n",
    "    \n",
    "    return properties"
   ]
  },
  {
   "cell_type": "markdown",
   "id": "bb0a3c50-e67c-4884-a746-a97579c8abac",
   "metadata": {
    "tags": []
   },
   "source": [
    "### Ejemplo 1"
   ]
  },
  {
   "cell_type": "code",
   "execution_count": 18,
   "id": "a64e0da6-4b1b-4edb-a45e-c2d5332120bc",
   "metadata": {
    "execution": {
     "iopub.execute_input": "2021-12-16T05:00:10.774766Z",
     "iopub.status.busy": "2021-12-16T05:00:10.774703Z",
     "iopub.status.idle": "2021-12-16T05:00:10.777469Z",
     "shell.execute_reply": "2021-12-16T05:00:10.777216Z",
     "shell.execute_reply.started": "2021-12-16T05:00:10.774758Z"
    },
    "tags": []
   },
   "outputs": [
    {
     "data": {
      "text/plain": [
       "[{'type': 'bool', 'name': 'teach', 'value': True, 'priority': 0},\n",
       " {'type': 'value', 'name': 'work', 'value': 'uk', 'bool': True, 'priority': 0},\n",
       " {'type': 'value',\n",
       "  'name': 'born',\n",
       "  'value': 'mexico',\n",
       "  'bool': True,\n",
       "  'priority': 0},\n",
       " {'type': 'bool', 'name': 'sport', 'value': True, 'priority': 0},\n",
       " {'type': 'bool', 'name': 'fun', 'value': False, 'priority': 0},\n",
       " {'type': 'value',\n",
       "  'name': 'study',\n",
       "  'value': 'uk',\n",
       "  'bool': True,\n",
       "  'priority': 0}]"
      ]
     },
     "execution_count": 18,
     "metadata": {},
     "output_type": "execute_result"
    }
   ],
   "source": [
    "propertiesOfObject(\"pete\", ontology)"
   ]
  },
  {
   "cell_type": "markdown",
   "id": "934f37d4-0c32-4a01-8669-477413abd671",
   "metadata": {
    "tags": []
   },
   "source": [
    "### Ejemplo 2"
   ]
  },
  {
   "cell_type": "code",
   "execution_count": 19,
   "id": "67833bc1-0ecc-4b65-9e68-dc11c0aacc04",
   "metadata": {
    "execution": {
     "iopub.execute_input": "2021-12-16T05:00:10.777885Z",
     "iopub.status.busy": "2021-12-16T05:00:10.777821Z",
     "iopub.status.idle": "2021-12-16T05:00:10.780420Z",
     "shell.execute_reply": "2021-12-16T05:00:10.780206Z",
     "shell.execute_reply.started": "2021-12-16T05:00:10.777877Z"
    }
   },
   "outputs": [
    {
     "data": {
      "text/plain": [
       "[{'type': 'bool', 'name': 'teach', 'value': True, 'priority': 0},\n",
       " {'type': 'bool', 'name': 'fun', 'value': True, 'priority': 0},\n",
       " {'type': 'bool', 'name': 'sport', 'value': False, 'priority': 0}]"
      ]
     },
     "execution_count": 19,
     "metadata": {},
     "output_type": "execute_result"
    }
   ],
   "source": [
    "propertiesOfObject(\"mary\", ontology)"
   ]
  },
  {
   "cell_type": "markdown",
   "id": "3cb706bf-002a-4874-8c1c-982042961006",
   "metadata": {},
   "source": [
    "#### Propiedades de una clase"
   ]
  },
  {
   "cell_type": "markdown",
   "id": "7872287f-6ee0-459b-a0ec-95ab6cb04301",
   "metadata": {},
   "source": [
    "Obtiene una lista con todas las propiedades de una clase, ya sean directas o por relación de herencia. Al igual que en las propiedades de objetos, la función retorna una descripción completa de las propiedades y de nuevo utiliza la función _getPropertiesByInheritance para obtener las propiedades por relación de herencia."
   ]
  },
  {
   "cell_type": "code",
   "execution_count": 20,
   "id": "6e0c5567-a6d1-4b69-bd3e-912020d6c7f6",
   "metadata": {
    "execution": {
     "iopub.execute_input": "2021-12-16T05:00:10.780951Z",
     "iopub.status.busy": "2021-12-16T05:00:10.780886Z",
     "iopub.status.idle": "2021-12-16T05:00:10.783185Z",
     "shell.execute_reply": "2021-12-16T05:00:10.782922Z",
     "shell.execute_reply.started": "2021-12-16T05:00:10.780943Z"
    },
    "tags": []
   },
   "outputs": [],
   "source": [
    "def propertiesOfClass(nameClass, ontology):\n",
    "    \n",
    "    # Obtiene la raiz de la ontologia\n",
    "    rootClass = superClassOfOntology(ontology)\n",
    "    # Si la clase raiz es la misma que nameClass\n",
    "    # returna las propiedades solo de la clase raiz\n",
    "    if nameClass == rootClass:\n",
    "        # Obtiene las propiedades de la clase raiz\n",
    "        classProp, _ = _directPropertiesOfClass(nameClass, ontology)\n",
    "        # Regresa las propiedades de la clase\n",
    "        return classProp\n",
    "    \n",
    "    # Se obtienen todas la jerarquia de clases a partir de una clase en especifico\n",
    "    hierarchyClasses = obtenerSupClasesDe(nameClass, ontology)\n",
    "    # Si la clase no encuentra ninguna superclase entonces la clase \n",
    "    # no esta en la ontologia\n",
    "    if not hierarchyClasses: \n",
    "        return []\n",
    "    \n",
    "    # Agrgamos la clase a la jerarquia en el indice 0\n",
    "    hierarchyClasses.insert(0, nameClass)\n",
    "    \n",
    "    properties = getPropertiesByInheritance(hierarchyClasses, ontology, imp=True)\n",
    "    \n",
    "    return properties"
   ]
  },
  {
   "cell_type": "markdown",
   "id": "3eabcd99-2488-4006-ba0a-d76d697c092e",
   "metadata": {
    "tags": []
   },
   "source": [
    "### Ejemplo 1"
   ]
  },
  {
   "cell_type": "code",
   "execution_count": 21,
   "id": "96ecf210-46f3-4203-a736-2a53a3df3264",
   "metadata": {
    "execution": {
     "iopub.execute_input": "2021-12-16T05:00:10.783615Z",
     "iopub.status.busy": "2021-12-16T05:00:10.783542Z",
     "iopub.status.idle": "2021-12-16T05:00:10.786244Z",
     "shell.execute_reply": "2021-12-16T05:00:10.785823Z",
     "shell.execute_reply.started": "2021-12-16T05:00:10.783605Z"
    },
    "tags": []
   },
   "outputs": [
    {
     "data": {
      "text/plain": [
       "[{'type': 'bool', 'name': 'sport', 'value': True, 'priority': 0},\n",
       " {'type': 'bool', 'name': 'fun', 'value': False, 'priority': 0},\n",
       " {'type': 'bool', 'name': 'teach', 'value': False, 'priority': 0},\n",
       " {'type': 'imp',\n",
       "  'antecedent': 'work',\n",
       "  'consequent': 'study',\n",
       "  'value': [True, True],\n",
       "  'priority': 3},\n",
       " {'type': 'imp',\n",
       "  'antecedent': 'like',\n",
       "  'consequent': 'study',\n",
       "  'value': [True, True],\n",
       "  'priority': 4},\n",
       " {'type': 'imp',\n",
       "  'antecedent': 'born',\n",
       "  'consequent': 'study',\n",
       "  'value': [True, True],\n",
       "  'priority': 5}]"
      ]
     },
     "execution_count": 21,
     "metadata": {},
     "output_type": "execute_result"
    }
   ],
   "source": [
    "propertiesOfClass(\"students\", ontology)"
   ]
  },
  {
   "cell_type": "markdown",
   "id": "feb5355e-9503-4b4d-b8a9-081e3f73a43b",
   "metadata": {
    "tags": []
   },
   "source": [
    "### Ejemplo 2"
   ]
  },
  {
   "cell_type": "code",
   "execution_count": 22,
   "id": "72575d60-49a6-4245-8859-16c446d4c7eb",
   "metadata": {
    "execution": {
     "iopub.execute_input": "2021-12-16T05:00:10.786783Z",
     "iopub.status.busy": "2021-12-16T05:00:10.786697Z",
     "iopub.status.idle": "2021-12-16T05:00:10.789626Z",
     "shell.execute_reply": "2021-12-16T05:00:10.789320Z",
     "shell.execute_reply.started": "2021-12-16T05:00:10.786773Z"
    },
    "tags": []
   },
   "outputs": [
    {
     "data": {
      "text/plain": [
       "[{'type': 'bool', 'name': 'teach', 'value': True, 'priority': 0},\n",
       " {'type': 'bool', 'name': 'fun', 'value': True, 'priority': 0},\n",
       " {'type': 'bool', 'name': 'sport', 'value': False, 'priority': 0}]"
      ]
     },
     "execution_count": 22,
     "metadata": {},
     "output_type": "execute_result"
    }
   ],
   "source": [
    "propertiesOfClass(\"faculty members\", ontology)"
   ]
  },
  {
   "cell_type": "markdown",
   "id": "a6f8d49f-56d4-4d7c-ae51-124ed71a0084",
   "metadata": {},
   "source": [
    "### f) Todas las relaciones de un objeto o clase"
   ]
  },
  {
   "cell_type": "markdown",
   "id": "f9929fae-2fcc-4ab6-9122-b951d17b7e55",
   "metadata": {},
   "source": [
    "#### Relaciones de un objeto"
   ]
  },
  {
   "cell_type": "markdown",
   "id": "313d6dc2-aff3-45ea-b48a-f69ac86ebc4f",
   "metadata": {},
   "source": [
    "todas las relaciones de un objeto"
   ]
  },
  {
   "cell_type": "code",
   "execution_count": 23,
   "id": "ac4c754e-cc52-4ea2-8c57-caedb2f5a1cb",
   "metadata": {
    "execution": {
     "iopub.execute_input": "2021-12-16T05:00:10.790194Z",
     "iopub.status.busy": "2021-12-16T05:00:10.790102Z",
     "iopub.status.idle": "2021-12-16T05:00:10.793352Z",
     "shell.execute_reply": "2021-12-16T05:00:10.792835Z",
     "shell.execute_reply.started": "2021-12-16T05:00:10.790183Z"
    },
    "tags": []
   },
   "outputs": [],
   "source": [
    "def allRelationshipsOneObject(objeto,ontology):\n",
    "    #obtener la clase a la cual pertenece el objeto\n",
    "    clase = getObjectClass(objeto,ontology)\n",
    "    #obtener todas las relaciones que tiene directamente o por herencia la clase\n",
    "    relacionesDeClase = allRelationshipsOneClass(clase,ontology)\n",
    "    #lista para guardar las relaciones que tiene el objeto localmente\n",
    "    relacionesDeObjeto = []\n",
    "    #obtener indice del individuo en su clase\n",
    "    individuo = getIndexObject(objeto,clase,ontology)\n",
    "    #obtener las relaciones directas del objeto\n",
    "    for relacion_ in ontology[getIndex(clase,ontology)][\"individuals\"][individuo][\"relations\"]:\n",
    "        relacionesDeObjeto.append(relacion_)\n",
    "    \n",
    "    #verificar de la lista de relacionde herencia por superclase\n",
    "    #las que no tenga agregarlas\n",
    "    for rel_class in relacionesDeClase: # para cada relacion de su superClases\n",
    "        agregar = True\n",
    "        for rel_ob in relacionesDeObjeto: # busca si esta en las relaciones de objeto si no agregasela\n",
    "            if rel_class[\"subject\"] == rel_ob[\"subject\"]:\n",
    "                agregar = False\n",
    "                break\n",
    "        \n",
    "        if agregar is True:\n",
    "            relacionesDeObjeto.append(rel_class)\n",
    "    return relacionesDeObjeto"
   ]
  },
  {
   "cell_type": "markdown",
   "id": "0b1d4c44-d4c3-465e-84d6-20713b04dbb7",
   "metadata": {
    "tags": []
   },
   "source": [
    "### Ejemplo 1"
   ]
  },
  {
   "cell_type": "code",
   "execution_count": 24,
   "id": "39b63362-efdf-4608-ac6f-106b874809fd",
   "metadata": {
    "execution": {
     "iopub.execute_input": "2021-12-16T05:00:10.793860Z",
     "iopub.status.busy": "2021-12-16T05:00:10.793802Z",
     "iopub.status.idle": "2021-12-16T05:00:10.796672Z",
     "shell.execute_reply": "2021-12-16T05:00:10.796378Z",
     "shell.execute_reply.started": "2021-12-16T05:00:10.793853Z"
    },
    "tags": []
   },
   "outputs": [
    {
     "data": {
      "text/plain": [
       "[{'type': 'value',\n",
       "  'subject': 'enrolled',\n",
       "  'object': 'prog',\n",
       "  'value': False,\n",
       "  'priority': 0}]"
      ]
     },
     "execution_count": 24,
     "metadata": {},
     "output_type": "execute_result"
    }
   ],
   "source": [
    "allRelationshipsOneObject(\"pete\", ontology)"
   ]
  },
  {
   "cell_type": "markdown",
   "id": "ebfc48c6-7e64-4f8d-ba58-0ea07730c80b",
   "metadata": {
    "tags": []
   },
   "source": [
    "### Ejemplo 2"
   ]
  },
  {
   "cell_type": "code",
   "execution_count": 25,
   "id": "b22adbaf-370d-481d-a02d-c19bbfc110f6",
   "metadata": {
    "execution": {
     "iopub.execute_input": "2021-12-16T05:00:10.797481Z",
     "iopub.status.busy": "2021-12-16T05:00:10.797186Z",
     "iopub.status.idle": "2021-12-16T05:00:10.799763Z",
     "shell.execute_reply": "2021-12-16T05:00:10.799520Z",
     "shell.execute_reply.started": "2021-12-16T05:00:10.797469Z"
    },
    "tags": []
   },
   "outputs": [
    {
     "data": {
      "text/plain": [
       "[{'type': 'value', 'subject': 'at', 'object': ['201', '202'], 'priority': 0}]"
      ]
     },
     "execution_count": 25,
     "metadata": {},
     "output_type": "execute_result"
    }
   ],
   "source": [
    "allRelationshipsOneObject(\"ai\", ontology)"
   ]
  },
  {
   "cell_type": "markdown",
   "id": "45bac355-bf93-4651-a189-cf8852732efa",
   "metadata": {},
   "source": [
    "#### Relaciones de una clase"
   ]
  },
  {
   "cell_type": "markdown",
   "id": "73f608f5-2a94-49d7-b47c-31e31aa9a16a",
   "metadata": {},
   "source": [
    "todas las relaciones de una clase"
   ]
  },
  {
   "cell_type": "code",
   "execution_count": 26,
   "id": "235d797a-fd0f-44b6-844d-b6d26eb7fbe0",
   "metadata": {
    "execution": {
     "iopub.execute_input": "2021-12-16T05:00:10.800576Z",
     "iopub.status.busy": "2021-12-16T05:00:10.800503Z",
     "iopub.status.idle": "2021-12-16T05:00:10.805031Z",
     "shell.execute_reply": "2021-12-16T05:00:10.804754Z",
     "shell.execute_reply.started": "2021-12-16T05:00:10.800568Z"
    },
    "tags": []
   },
   "outputs": [],
   "source": [
    "def allRelationshipsOneClass(clase,ontology):\n",
    "    #optener superClases de la clase\n",
    "    superClasesDeClase = obtenerSupClasesDe(clase,ontology)\n",
    "    #optener la clase que se esta buscando\n",
    "    clase_actual = ontology[ getIndex(clase,ontology) ]\n",
    "    #almacen de todas las relaciones de esta clase por declaracion directa en la misma\n",
    "    relacionesDeClase = []\n",
    "    \n",
    "    for relInClass in clase_actual[\"relations\"]:\n",
    "        relacionesDeClase.append(relInClass)\n",
    "        \n",
    "    #para cada super clase en forma ascendente, busca\n",
    "    for claseSup in superClasesDeClase:\n",
    "        #obtener la clase de la ontologia\n",
    "        superClase = ontology[ getIndex(claseSup,ontology) ]\n",
    "        #para cada relacion en la superClase, busca si debo agregar alguna a la subclase\n",
    "        for relInSupClass in superClase[\"relations\"]:\n",
    "            #busca en las relaciones que ya tiene la clase\n",
    "            guardar = True \n",
    "            for relClassActual in relacionesDeClase:\n",
    "                if relClassActual[\"subject\"] == relInSupClass[\"subject\"]:\n",
    "                    guardar = False\n",
    "                    break\n",
    "            \n",
    "            if guardar is True:\n",
    "                relacionesDeClase.append(relInSupClass)\n",
    "    return relacionesDeClase"
   ]
  },
  {
   "cell_type": "markdown",
   "id": "5d363c13-0fcb-4996-8ae4-3900dc629c87",
   "metadata": {
    "tags": []
   },
   "source": [
    "### Ejemplo 1"
   ]
  },
  {
   "cell_type": "code",
   "execution_count": 27,
   "id": "2de692a0-1226-4c5b-a4d5-2c318e4c7cee",
   "metadata": {
    "execution": {
     "iopub.execute_input": "2021-12-16T05:00:10.805601Z",
     "iopub.status.busy": "2021-12-16T05:00:10.805539Z",
     "iopub.status.idle": "2021-12-16T05:00:10.810041Z",
     "shell.execute_reply": "2021-12-16T05:00:10.809678Z",
     "shell.execute_reply.started": "2021-12-16T05:00:10.805593Z"
    },
    "tags": []
   },
   "outputs": [
    {
     "data": {
      "text/plain": [
       "[{'type': 'value',\n",
       "  'subject': 'enrolled',\n",
       "  'object': 'courses',\n",
       "  'value': True,\n",
       "  'priority': 0}]"
      ]
     },
     "execution_count": 27,
     "metadata": {},
     "output_type": "execute_result"
    }
   ],
   "source": [
    "allRelationshipsOneClass(\"students\", ontology)"
   ]
  },
  {
   "cell_type": "markdown",
   "id": "06f7987c-efff-4840-baea-78b572e69559",
   "metadata": {
    "tags": []
   },
   "source": [
    "### Ejemplo 2"
   ]
  },
  {
   "cell_type": "code",
   "execution_count": 28,
   "id": "077173d2-c80e-48de-8fe1-2189164f9ef6",
   "metadata": {
    "execution": {
     "iopub.execute_input": "2021-12-16T05:00:10.810591Z",
     "iopub.status.busy": "2021-12-16T05:00:10.810521Z",
     "iopub.status.idle": "2021-12-16T05:00:10.812881Z",
     "shell.execute_reply": "2021-12-16T05:00:10.812627Z",
     "shell.execute_reply.started": "2021-12-16T05:00:10.810582Z"
    },
    "tags": []
   },
   "outputs": [
    {
     "data": {
      "text/plain": [
       "[]"
      ]
     },
     "execution_count": 28,
     "metadata": {},
     "output_type": "execute_result"
    }
   ],
   "source": [
    "allRelationshipsOneClass(\"faculty members\", ontology)"
   ]
  },
  {
   "cell_type": "markdown",
   "id": "8645d69a-bfd0-4110-9839-edab5c546060",
   "metadata": {},
   "source": [
    "## 2. Predicados para añadir:"
   ]
  },
  {
   "cell_type": "markdown",
   "id": "b523a623-0e9b-4d6d-af2f-e314f6a63bf9",
   "metadata": {
    "tags": []
   },
   "source": [
    "### A.1 Clases"
   ]
  },
  {
   "cell_type": "markdown",
   "id": "fe74f0e1-fc76-494d-8c1d-a499d9c66f63",
   "metadata": {},
   "source": [
    "Añade un objeto individualId (string) a una clase nameClass (string) de la ontología (list)"
   ]
  },
  {
   "cell_type": "code",
   "execution_count": 29,
   "id": "6fb34f94-c3c7-4beb-9530-cbe3b9958752",
   "metadata": {
    "execution": {
     "iopub.execute_input": "2021-12-16T05:00:10.813281Z",
     "iopub.status.busy": "2021-12-16T05:00:10.813221Z",
     "iopub.status.idle": "2021-12-16T05:00:10.816387Z",
     "shell.execute_reply": "2021-12-16T05:00:10.816093Z",
     "shell.execute_reply.started": "2021-12-16T05:00:10.813273Z"
    }
   },
   "outputs": [],
   "source": [
    "def addObject(individualId,nameClass,ontology):\n",
    "    if not isInClass(nameClass,ontology): # Si no existe la clase en la ontología: \n",
    "        #raise Error('Error: La Clase no esta en la ontologia.') # Mandar mensaje de error\n",
    "        return False\n",
    "    individual = {'id':individualId, 'properties':[], 'relations':[]} #Crear diccionario de individuo\n",
    "    indxClass = getIndex(nameClass, ontology) # Obtener el indice de la clase del nuevo individuo\n",
    "    ontology[indxClass]['individuals'].append(individual) # Agregar el  nuevo individuo a la lista de individuos\n",
    "    saveOntology(ontology) #Guardar la ontología"
   ]
  },
  {
   "cell_type": "markdown",
   "id": "65b53c23-7401-4f25-a6b5-17b702c2c2a4",
   "metadata": {
    "tags": []
   },
   "source": [
    "### Ejemplo 1"
   ]
  },
  {
   "cell_type": "markdown",
   "id": "2813f14e-ba0c-4811-a73a-0dea9a4d56cc",
   "metadata": {},
   "source": [
    "Extension de la clase \"library staff\" antes de agregar un nuevo individuo."
   ]
  },
  {
   "cell_type": "code",
   "execution_count": 30,
   "id": "b4ff9acf-d69e-4c1c-9889-05128c2b24c4",
   "metadata": {
    "execution": {
     "iopub.execute_input": "2021-12-16T05:00:10.816896Z",
     "iopub.status.busy": "2021-12-16T05:00:10.816831Z",
     "iopub.status.idle": "2021-12-16T05:00:10.821354Z",
     "shell.execute_reply": "2021-12-16T05:00:10.821004Z",
     "shell.execute_reply.started": "2021-12-16T05:00:10.816887Z"
    }
   },
   "outputs": [
    {
     "data": {
      "text/plain": [
       "['tom']"
      ]
     },
     "execution_count": 30,
     "metadata": {},
     "output_type": "execute_result"
    }
   ],
   "source": [
    "classExtention(\"library staff\", ontology)"
   ]
  },
  {
   "cell_type": "markdown",
   "id": "b0e42815-d813-4434-bbdf-0660537c17e2",
   "metadata": {},
   "source": [
    "Se agrega un nuevo individuo a la clase \"library staff\"."
   ]
  },
  {
   "cell_type": "code",
   "execution_count": 31,
   "id": "8ad83c22-6bca-4c4b-a50d-699f8c6edaeb",
   "metadata": {
    "execution": {
     "iopub.execute_input": "2021-12-16T05:00:10.822089Z",
     "iopub.status.busy": "2021-12-16T05:00:10.821909Z",
     "iopub.status.idle": "2021-12-16T05:00:10.824553Z",
     "shell.execute_reply": "2021-12-16T05:00:10.824272Z",
     "shell.execute_reply.started": "2021-12-16T05:00:10.822076Z"
    },
    "tags": []
   },
   "outputs": [],
   "source": [
    "addObject(\"jose\", \"library staff\", ontology)"
   ]
  },
  {
   "cell_type": "markdown",
   "id": "2c4a3067-f164-4099-a9b1-e7c2adb18e0b",
   "metadata": {},
   "source": [
    "Extension de la clase \"library staff\" despues de agregar un nuevo individuo."
   ]
  },
  {
   "cell_type": "code",
   "execution_count": 32,
   "id": "edbeec34-20a6-494c-a64b-cc0bd2a716fa",
   "metadata": {
    "execution": {
     "iopub.execute_input": "2021-12-16T05:00:10.825025Z",
     "iopub.status.busy": "2021-12-16T05:00:10.824966Z",
     "iopub.status.idle": "2021-12-16T05:00:10.827262Z",
     "shell.execute_reply": "2021-12-16T05:00:10.827003Z",
     "shell.execute_reply.started": "2021-12-16T05:00:10.825016Z"
    }
   },
   "outputs": [
    {
     "data": {
      "text/plain": [
       "['tom', 'jose']"
      ]
     },
     "execution_count": 32,
     "metadata": {},
     "output_type": "execute_result"
    }
   ],
   "source": [
    "classExtention(\"library staff\", ontology)"
   ]
  },
  {
   "cell_type": "markdown",
   "id": "83ff6551-e930-440f-80aa-950afab42d32",
   "metadata": {
    "tags": []
   },
   "source": [
    "### Ejemplo 2"
   ]
  },
  {
   "cell_type": "markdown",
   "id": "55ecacaa-5167-461f-a068-e3e5b9ee6f0b",
   "metadata": {},
   "source": [
    "Extension de la clase \"people\" antes de agregar un nuevo individuo."
   ]
  },
  {
   "cell_type": "code",
   "execution_count": 33,
   "id": "1ebccae2-1c1d-4660-a76e-ba8a18d8a1c5",
   "metadata": {
    "execution": {
     "iopub.execute_input": "2021-12-16T05:00:10.827712Z",
     "iopub.status.busy": "2021-12-16T05:00:10.827656Z",
     "iopub.status.idle": "2021-12-16T05:00:10.830248Z",
     "shell.execute_reply": "2021-12-16T05:00:10.829988Z",
     "shell.execute_reply.started": "2021-12-16T05:00:10.827705Z"
    },
    "tags": []
   },
   "outputs": [
    {
     "data": {
      "text/plain": [
       "['pete', 'anne', 'mary', 'tom', 'jose']"
      ]
     },
     "execution_count": 33,
     "metadata": {},
     "output_type": "execute_result"
    }
   ],
   "source": [
    "classExtention(\"people\", ontology)"
   ]
  },
  {
   "cell_type": "markdown",
   "id": "577e420a-a827-42d9-8d16-98361d49edf7",
   "metadata": {},
   "source": [
    "Se agrega un nuevo individuo a la clase \"people\"."
   ]
  },
  {
   "cell_type": "code",
   "execution_count": 34,
   "id": "d0429b90-306e-4ee2-beab-f8ddb7ed5f14",
   "metadata": {
    "execution": {
     "iopub.execute_input": "2021-12-16T05:00:10.830752Z",
     "iopub.status.busy": "2021-12-16T05:00:10.830693Z",
     "iopub.status.idle": "2021-12-16T05:00:10.832831Z",
     "shell.execute_reply": "2021-12-16T05:00:10.832603Z",
     "shell.execute_reply.started": "2021-12-16T05:00:10.830744Z"
    },
    "tags": []
   },
   "outputs": [],
   "source": [
    "addObject(\"roberto\", \"people\", ontology)"
   ]
  },
  {
   "cell_type": "markdown",
   "id": "e1920184-8894-4455-966a-fb380ef3039a",
   "metadata": {},
   "source": [
    "Extension de la clase \"people\" despues de agregar un nuevo individuo."
   ]
  },
  {
   "cell_type": "code",
   "execution_count": 35,
   "id": "6357d291-ad2d-48ff-ac77-edae4522b51f",
   "metadata": {
    "execution": {
     "iopub.execute_input": "2021-12-16T05:00:10.833404Z",
     "iopub.status.busy": "2021-12-16T05:00:10.833302Z",
     "iopub.status.idle": "2021-12-16T05:00:10.835403Z",
     "shell.execute_reply": "2021-12-16T05:00:10.835146Z",
     "shell.execute_reply.started": "2021-12-16T05:00:10.833395Z"
    },
    "tags": []
   },
   "outputs": [
    {
     "data": {
      "text/plain": [
       "['pete', 'anne', 'mary', 'tom', 'jose', 'roberto']"
      ]
     },
     "execution_count": 35,
     "metadata": {},
     "output_type": "execute_result"
    }
   ],
   "source": [
    "classExtention(\"people\", ontology)"
   ]
  },
  {
   "cell_type": "markdown",
   "id": "1259e6ff-a31e-48e8-b395-8992f17b1f45",
   "metadata": {
    "tags": []
   },
   "source": [
    "### A.2 Objetos"
   ]
  },
  {
   "cell_type": "markdown",
   "id": "8241a726-854e-4503-b835-edfe25c61ab9",
   "metadata": {},
   "source": [
    "Añade una clase nameClass (string), especificando su clase madre nameSuperClass (string) en la  ontología (list)"
   ]
  },
  {
   "cell_type": "code",
   "execution_count": 36,
   "id": "360eeeb4-3321-4ae9-a890-b2381a3ca3e0",
   "metadata": {
    "execution": {
     "iopub.execute_input": "2021-12-16T05:00:10.835889Z",
     "iopub.status.busy": "2021-12-16T05:00:10.835829Z",
     "iopub.status.idle": "2021-12-16T05:00:10.838327Z",
     "shell.execute_reply": "2021-12-16T05:00:10.838082Z",
     "shell.execute_reply.started": "2021-12-16T05:00:10.835881Z"
    },
    "tags": []
   },
   "outputs": [],
   "source": [
    "def addClass(nameClass,nameSuperClass,ontology):\n",
    "    if nameSuperClass == None: # Si se quiere agregar una clase raíz\n",
    "        for clase in ontology: # Encontrar quien era la clase raíz\n",
    "            if clase[\"mother\"] == None:\n",
    "                clase[\"mother\"] = nameClass  #Cambiar su madre por la clase agregada\n",
    "    else:\n",
    "        if not isInClass(nameSuperClass,ontology): #Si no existe la clase en la ontología\n",
    "            #raise Error('Error: La Clase no esta en la ontologia.') #Mandar mensaje de error\n",
    "            return False\n",
    "    #Crear diccionario para la clase\n",
    "    newClass = {'clase':nameClass, \n",
    "                'mother':nameSuperClass,\n",
    "                'properties':[], \n",
    "                'relations':[], \n",
    "                'individuals':[]}\n",
    "    ontology.append(newClass) # Agregar la clase a la ontología \n",
    "    saveOntology(ontology) # Guardar la ontología"
   ]
  },
  {
   "cell_type": "markdown",
   "id": "fde4de94-36ef-4c15-a07b-61e5f5f0a571",
   "metadata": {
    "tags": []
   },
   "source": [
    "### Ejemplo 1"
   ]
  },
  {
   "cell_type": "markdown",
   "id": "5fc35267-fb82-45a6-8857-f0b43b5b977a",
   "metadata": {},
   "source": [
    "La jerarquía de clases original"
   ]
  },
  {
   "cell_type": "code",
   "execution_count": 37,
   "id": "c05da930-86f7-47d9-84d2-4f8bb180e6b7",
   "metadata": {
    "execution": {
     "iopub.execute_input": "2021-12-16T05:00:10.838880Z",
     "iopub.status.busy": "2021-12-16T05:00:10.838773Z",
     "iopub.status.idle": "2021-12-16T05:00:10.841202Z",
     "shell.execute_reply": "2021-12-16T05:00:10.840887Z",
     "shell.execute_reply.started": "2021-12-16T05:00:10.838872Z"
    },
    "tags": []
   },
   "outputs": [
    {
     "data": {
      "text/plain": [
       "[[0, 'top'],\n",
       " [1, 'objects'],\n",
       " [2, 'concrete'],\n",
       " [2, 'abstract'],\n",
       " [3, 'people'],\n",
       " [3, 'rooms'],\n",
       " [3, 'courses'],\n",
       " [4, 'students'],\n",
       " [4, 'faculty members'],\n",
       " [4, 'library staff']]"
      ]
     },
     "execution_count": 37,
     "metadata": {},
     "output_type": "execute_result"
    }
   ],
   "source": [
    "hierarchyTree(ontology)"
   ]
  },
  {
   "cell_type": "markdown",
   "id": "4829bae9-d13e-4161-80ad-6e303fb4f981",
   "metadata": {},
   "source": [
    "Se agrega una nueva clase a la ontologia \"teachers\" a la clase madre \"people\"."
   ]
  },
  {
   "cell_type": "code",
   "execution_count": 38,
   "id": "9880eb71-4d8b-4e26-81b9-d5c682d6cb7f",
   "metadata": {
    "execution": {
     "iopub.execute_input": "2021-12-16T05:00:10.841685Z",
     "iopub.status.busy": "2021-12-16T05:00:10.841590Z",
     "iopub.status.idle": "2021-12-16T05:00:10.844471Z",
     "shell.execute_reply": "2021-12-16T05:00:10.844161Z",
     "shell.execute_reply.started": "2021-12-16T05:00:10.841676Z"
    },
    "tags": []
   },
   "outputs": [],
   "source": [
    "addClass(\"teachers\",\"faculty members\",ontology)"
   ]
  },
  {
   "cell_type": "markdown",
   "id": "5e76819b-33e3-4221-808e-4dfeafc83d54",
   "metadata": {},
   "source": [
    "La jerarquía de clases despues de agregar la clase \"teachers\""
   ]
  },
  {
   "cell_type": "code",
   "execution_count": 39,
   "id": "dcea890b-06a7-4c51-bb65-44569296fc86",
   "metadata": {
    "execution": {
     "iopub.execute_input": "2021-12-16T05:00:10.845382Z",
     "iopub.status.busy": "2021-12-16T05:00:10.845282Z",
     "iopub.status.idle": "2021-12-16T05:00:10.848017Z",
     "shell.execute_reply": "2021-12-16T05:00:10.847760Z",
     "shell.execute_reply.started": "2021-12-16T05:00:10.845371Z"
    },
    "tags": []
   },
   "outputs": [
    {
     "data": {
      "text/plain": [
       "[[0, 'top'],\n",
       " [1, 'objects'],\n",
       " [2, 'concrete'],\n",
       " [2, 'abstract'],\n",
       " [3, 'people'],\n",
       " [3, 'rooms'],\n",
       " [3, 'courses'],\n",
       " [4, 'students'],\n",
       " [4, 'faculty members'],\n",
       " [4, 'library staff'],\n",
       " [5, 'teachers']]"
      ]
     },
     "execution_count": 39,
     "metadata": {},
     "output_type": "execute_result"
    }
   ],
   "source": [
    "hierarchyTree(ontology)"
   ]
  },
  {
   "cell_type": "markdown",
   "id": "a2bb0f50-9b76-4ee0-b80a-5c2d1cb832e7",
   "metadata": {},
   "source": [
    "Super clases de la nueva clase \"teachers\"."
   ]
  },
  {
   "cell_type": "code",
   "execution_count": 40,
   "id": "b480e05f-2b1d-45a1-9d39-bee7d9965bad",
   "metadata": {
    "execution": {
     "iopub.execute_input": "2021-12-16T05:00:10.848570Z",
     "iopub.status.busy": "2021-12-16T05:00:10.848501Z",
     "iopub.status.idle": "2021-12-16T05:00:10.850839Z",
     "shell.execute_reply": "2021-12-16T05:00:10.850593Z",
     "shell.execute_reply.started": "2021-12-16T05:00:10.848561Z"
    },
    "tags": []
   },
   "outputs": [
    {
     "data": {
      "text/plain": [
       "['faculty members', 'people', 'concrete', 'objects', 'top']"
      ]
     },
     "execution_count": 40,
     "metadata": {},
     "output_type": "execute_result"
    }
   ],
   "source": [
    "obtenerSupClasesDe(\"teachers\",ontology)"
   ]
  },
  {
   "cell_type": "markdown",
   "id": "ba24ff3e-1a6a-45fc-af0b-c9691db5c55a",
   "metadata": {
    "tags": []
   },
   "source": [
    "### Ejemplo 2"
   ]
  },
  {
   "cell_type": "markdown",
   "id": "eeb4c4de-914c-4f18-af84-0e44e415a6cd",
   "metadata": {},
   "source": [
    "La jerarquía de clases original"
   ]
  },
  {
   "cell_type": "code",
   "execution_count": 41,
   "id": "541a9c7d-6d7f-4ed3-80a8-32eb1c12b7a5",
   "metadata": {
    "execution": {
     "iopub.execute_input": "2021-12-16T05:00:10.856077Z",
     "iopub.status.busy": "2021-12-16T05:00:10.855974Z",
     "iopub.status.idle": "2021-12-16T05:00:10.858391Z",
     "shell.execute_reply": "2021-12-16T05:00:10.858146Z",
     "shell.execute_reply.started": "2021-12-16T05:00:10.856069Z"
    },
    "tags": []
   },
   "outputs": [
    {
     "data": {
      "text/plain": [
       "[[0, 'top'],\n",
       " [1, 'objects'],\n",
       " [2, 'concrete'],\n",
       " [2, 'abstract'],\n",
       " [3, 'people'],\n",
       " [3, 'rooms'],\n",
       " [3, 'courses'],\n",
       " [4, 'students'],\n",
       " [4, 'faculty members'],\n",
       " [4, 'library staff'],\n",
       " [5, 'teachers']]"
      ]
     },
     "execution_count": 41,
     "metadata": {},
     "output_type": "execute_result"
    }
   ],
   "source": [
    "hierarchyTree(ontology)"
   ]
  },
  {
   "cell_type": "markdown",
   "id": "6bd69ad7-dccd-4ea1-9c21-7d7c628b8dc7",
   "metadata": {},
   "source": [
    "Se agrega una nueva clase a la ontologia \"restrooms\" a la clase madre \"rooms\"."
   ]
  },
  {
   "cell_type": "code",
   "execution_count": 42,
   "id": "bf547a05-b937-4758-a613-05e65089ec34",
   "metadata": {
    "execution": {
     "iopub.execute_input": "2021-12-16T05:00:10.858865Z",
     "iopub.status.busy": "2021-12-16T05:00:10.858791Z",
     "iopub.status.idle": "2021-12-16T05:00:10.860979Z",
     "shell.execute_reply": "2021-12-16T05:00:10.860723Z",
     "shell.execute_reply.started": "2021-12-16T05:00:10.858857Z"
    },
    "tags": []
   },
   "outputs": [],
   "source": [
    "addClass(\"restrooms\",\"rooms\",ontology)"
   ]
  },
  {
   "cell_type": "markdown",
   "id": "ba668585-5961-4d89-9c8a-ce0f9c81d056",
   "metadata": {},
   "source": [
    "La jerarquía de clases despues de agregar la clase \"restrooms\""
   ]
  },
  {
   "cell_type": "code",
   "execution_count": 43,
   "id": "2e38a62a-f009-4884-8b47-00a049204bb3",
   "metadata": {
    "execution": {
     "iopub.execute_input": "2021-12-16T05:00:10.861448Z",
     "iopub.status.busy": "2021-12-16T05:00:10.861388Z",
     "iopub.status.idle": "2021-12-16T05:00:10.863755Z",
     "shell.execute_reply": "2021-12-16T05:00:10.863519Z",
     "shell.execute_reply.started": "2021-12-16T05:00:10.861440Z"
    },
    "tags": []
   },
   "outputs": [
    {
     "data": {
      "text/plain": [
       "[[0, 'top'],\n",
       " [1, 'objects'],\n",
       " [2, 'concrete'],\n",
       " [2, 'abstract'],\n",
       " [3, 'people'],\n",
       " [3, 'rooms'],\n",
       " [3, 'courses'],\n",
       " [4, 'students'],\n",
       " [4, 'faculty members'],\n",
       " [4, 'library staff'],\n",
       " [4, 'restrooms'],\n",
       " [5, 'teachers']]"
      ]
     },
     "execution_count": 43,
     "metadata": {},
     "output_type": "execute_result"
    }
   ],
   "source": [
    "hierarchyTree(ontology)"
   ]
  },
  {
   "cell_type": "markdown",
   "id": "59477245-da0a-4097-9b08-a565613d33b5",
   "metadata": {},
   "source": [
    "Super clases de la nueva clase \"teachers\"."
   ]
  },
  {
   "cell_type": "code",
   "execution_count": 44,
   "id": "133a765d-41bf-4e18-8505-498e023aa78f",
   "metadata": {
    "execution": {
     "iopub.execute_input": "2021-12-16T05:00:10.864190Z",
     "iopub.status.busy": "2021-12-16T05:00:10.864133Z",
     "iopub.status.idle": "2021-12-16T05:00:10.866379Z",
     "shell.execute_reply": "2021-12-16T05:00:10.866117Z",
     "shell.execute_reply.started": "2021-12-16T05:00:10.864182Z"
    },
    "tags": []
   },
   "outputs": [
    {
     "data": {
      "text/plain": [
       "['rooms', 'concrete', 'objects', 'top']"
      ]
     },
     "execution_count": 44,
     "metadata": {},
     "output_type": "execute_result"
    }
   ],
   "source": [
    "obtenerSupClasesDe(\"restrooms\",ontology)"
   ]
  },
  {
   "cell_type": "markdown",
   "id": "78fd5a4b-1d29-4861-b2a8-7f1c362a6d69",
   "metadata": {},
   "source": [
    "### B.1 Propiedades de clases "
   ]
  },
  {
   "cell_type": "markdown",
   "id": "ad13161c-c284-48a9-b71a-af58a7adc72a",
   "metadata": {},
   "source": [
    "Añadir a una clase nameClass (string), propiedades propertyName (string), con cierto valor\n",
    "propertyValue (string), dentro de una ontologia (list). Si la propiedad necesita una\n",
    "prioridad priority (int) se le puede agregar."
   ]
  },
  {
   "cell_type": "code",
   "execution_count": 45,
   "id": "92f0d1aa-859a-4dfb-8eb2-7e2523857991",
   "metadata": {
    "execution": {
     "iopub.execute_input": "2021-12-16T05:00:10.866827Z",
     "iopub.status.busy": "2021-12-16T05:00:10.866748Z",
     "iopub.status.idle": "2021-12-16T05:00:10.870764Z",
     "shell.execute_reply": "2021-12-16T05:00:10.870373Z",
     "shell.execute_reply.started": "2021-12-16T05:00:10.866819Z"
    },
    "tags": []
   },
   "outputs": [],
   "source": [
    "def addClassProperty(nameClass, propertyName, propertyValue, ontology, *, boolean=True, priority=None):\n",
    "    if not isInClass(nameClass,ontology): #Si la clase no esta en la ontología\n",
    "        return False\n",
    "    indxClass = getIndex(nameClass, ontology) #Indice de la clase \n",
    "    if priority is not None: #Si hay prioridad la propiedad es de implicación\n",
    "        newProperty = {'type':'imp',\n",
    "                       'antecedent':propertyName[0],\n",
    "                       'consequent':propertyValue[0],\n",
    "                       'value': propertyName[1] + [propertyValue[1]],\n",
    "                       'priority':priority}\n",
    "    # De otra forma la propiedad puede ser boleana o de valor\n",
    "    elif type(propertyName) is not list and type(propertyValue) is not list: \n",
    "        if type(propertyValue) is bool:\n",
    "            newProperty = {'type':\"bool\", #Solo se diferencian por su tipo\n",
    "                           'name':propertyName,\n",
    "                           'value':propertyValue, \n",
    "                           'priority':0} #La prioridad por default es 0\n",
    "        else:\n",
    "            newProperty = {'type':\"value\", #Solo se diferencian por su tipo\n",
    "                           'name':propertyName,\n",
    "                           'value':propertyValue,\n",
    "                           'bool': boolean,\n",
    "                           'priority':0} #La prioridad por default es 0\n",
    "    else:\n",
    "        return False\n",
    "        \n",
    "    ontology[indxClass]['properties'].append(newProperty) #Agregar a la lista de propiedades de la clase\n",
    "    saveOntology(ontology) #Guardar ontología"
   ]
  },
  {
   "cell_type": "markdown",
   "id": "3ad40b6b-1396-4c0e-bf37-96881e8d2df5",
   "metadata": {
    "tags": []
   },
   "source": [
    "### Ejemplo 1"
   ]
  },
  {
   "cell_type": "markdown",
   "id": "a806c21c-4ebb-4f91-8d34-33723271cf4e",
   "metadata": {},
   "source": [
    "Propiedades de la clase \"teachers\"."
   ]
  },
  {
   "cell_type": "code",
   "execution_count": 46,
   "id": "993c7d5f-4d26-4cc6-aabc-48f556b4bb38",
   "metadata": {
    "execution": {
     "iopub.execute_input": "2021-12-16T05:00:10.871281Z",
     "iopub.status.busy": "2021-12-16T05:00:10.871213Z",
     "iopub.status.idle": "2021-12-16T05:00:10.873645Z",
     "shell.execute_reply": "2021-12-16T05:00:10.873405Z",
     "shell.execute_reply.started": "2021-12-16T05:00:10.871272Z"
    },
    "tags": []
   },
   "outputs": [
    {
     "data": {
      "text/plain": [
       "[{'type': 'bool', 'name': 'teach', 'value': True, 'priority': 0},\n",
       " {'type': 'bool', 'name': 'fun', 'value': True, 'priority': 0},\n",
       " {'type': 'bool', 'name': 'sport', 'value': False, 'priority': 0}]"
      ]
     },
     "execution_count": 46,
     "metadata": {},
     "output_type": "execute_result"
    }
   ],
   "source": [
    "propertiesOfClass(\"teachers\", ontology)"
   ]
  },
  {
   "cell_type": "markdown",
   "id": "61719590-a5e0-4467-8108-7830621f6529",
   "metadata": {},
   "source": [
    "Se agrega una propiedad boleana \"teach\" con el valor True."
   ]
  },
  {
   "cell_type": "code",
   "execution_count": 47,
   "id": "ff4a03ad-eaa1-46f0-8ab7-8bea061528d1",
   "metadata": {
    "execution": {
     "iopub.execute_input": "2021-12-16T05:00:10.874112Z",
     "iopub.status.busy": "2021-12-16T05:00:10.874049Z",
     "iopub.status.idle": "2021-12-16T05:00:10.876193Z",
     "shell.execute_reply": "2021-12-16T05:00:10.875963Z",
     "shell.execute_reply.started": "2021-12-16T05:00:10.874105Z"
    }
   },
   "outputs": [],
   "source": [
    "addClassProperty(\"teachers\", \"teach\", True, ontology)"
   ]
  },
  {
   "cell_type": "markdown",
   "id": "a43cf44c-b591-4cb8-9488-12347c04b3ce",
   "metadata": {},
   "source": [
    "Se agrega una propiedad de valor \"sni\" con el valor \"nivel1\" negada."
   ]
  },
  {
   "cell_type": "code",
   "execution_count": 48,
   "id": "2e67ac1a-d848-4393-b882-1977410ba877",
   "metadata": {
    "execution": {
     "iopub.execute_input": "2021-12-16T05:00:10.876720Z",
     "iopub.status.busy": "2021-12-16T05:00:10.876502Z",
     "iopub.status.idle": "2021-12-16T05:00:10.879051Z",
     "shell.execute_reply": "2021-12-16T05:00:10.878815Z",
     "shell.execute_reply.started": "2021-12-16T05:00:10.876708Z"
    },
    "tags": []
   },
   "outputs": [],
   "source": [
    "addClassProperty(\"teachers\", \"sni\", \"nivel1\", ontology, boolean=False)"
   ]
  },
  {
   "cell_type": "markdown",
   "id": "1223ec1f-26db-401c-8bb0-0b327dfe9991",
   "metadata": {},
   "source": [
    "Se agrega una propiedad de implicacion con un solo antecedente positivo."
   ]
  },
  {
   "cell_type": "code",
   "execution_count": 49,
   "id": "a3fe592f-9db3-4331-845f-a790377ee90a",
   "metadata": {
    "execution": {
     "iopub.execute_input": "2021-12-16T05:00:10.879511Z",
     "iopub.status.busy": "2021-12-16T05:00:10.879452Z",
     "iopub.status.idle": "2021-12-16T05:00:10.881850Z",
     "shell.execute_reply": "2021-12-16T05:00:10.881617Z",
     "shell.execute_reply.started": "2021-12-16T05:00:10.879503Z"
    }
   },
   "outputs": [],
   "source": [
    "addClassProperty(\"teachers\", [[\"sni\"],[True]], [\"researcher\",True], ontology, priority=0)"
   ]
  },
  {
   "cell_type": "markdown",
   "id": "78c41c3f-ac4b-4557-8444-98cfcde4831c",
   "metadata": {},
   "source": [
    "Propiedades de la clase \"teachers\" despues de añadir nuevos elementos."
   ]
  },
  {
   "cell_type": "code",
   "execution_count": 50,
   "id": "9e4bef47-ee7d-475a-a9d6-2a1bd812d31a",
   "metadata": {
    "execution": {
     "iopub.execute_input": "2021-12-16T05:00:10.882312Z",
     "iopub.status.busy": "2021-12-16T05:00:10.882253Z",
     "iopub.status.idle": "2021-12-16T05:00:10.885467Z",
     "shell.execute_reply": "2021-12-16T05:00:10.885210Z",
     "shell.execute_reply.started": "2021-12-16T05:00:10.882304Z"
    },
    "tags": []
   },
   "outputs": [
    {
     "data": {
      "text/plain": [
       "[{'type': 'bool', 'name': 'teach', 'value': True, 'priority': 0},\n",
       " {'type': 'value',\n",
       "  'name': 'sni',\n",
       "  'value': 'nivel1',\n",
       "  'bool': False,\n",
       "  'priority': 0},\n",
       " {'type': 'bool', 'name': 'fun', 'value': True, 'priority': 0},\n",
       " {'type': 'bool', 'name': 'sport', 'value': False, 'priority': 0},\n",
       " {'type': 'imp',\n",
       "  'antecedent': 'sni',\n",
       "  'consequent': 'researcher',\n",
       "  'value': [True, True],\n",
       "  'priority': 0}]"
      ]
     },
     "execution_count": 50,
     "metadata": {},
     "output_type": "execute_result"
    }
   ],
   "source": [
    "propertiesOfClass(\"teachers\", ontology)"
   ]
  },
  {
   "cell_type": "markdown",
   "id": "14dbe737-a873-4c8a-8746-f6951f8f2e48",
   "metadata": {},
   "source": [
    "### B.2 Propiedades de objetos\n"
   ]
  },
  {
   "cell_type": "markdown",
   "id": "a0e8c64c-9180-413d-87c5-4ed97a9e5b6c",
   "metadata": {},
   "source": [
    "Añadir a un objeto nameObject (string) de la ontologia (list), una propiedad propertyName (string), con cierto valor propertyValue (bool, string)"
   ]
  },
  {
   "cell_type": "code",
   "execution_count": 51,
   "id": "735a0736-b515-4fe3-8004-16fe2f2fb8e2",
   "metadata": {
    "execution": {
     "iopub.execute_input": "2021-12-16T05:00:10.885947Z",
     "iopub.status.busy": "2021-12-16T05:00:10.885859Z",
     "iopub.status.idle": "2021-12-16T05:00:10.888621Z",
     "shell.execute_reply": "2021-12-16T05:00:10.888390Z",
     "shell.execute_reply.started": "2021-12-16T05:00:10.885938Z"
    },
    "tags": []
   },
   "outputs": [],
   "source": [
    "def addObjectProperty(nameObject, propertyName, propertyValue, ontology, *, boolean=True):\n",
    "    clase = getObjectClass(nameObject,ontology) #Clase directa del individuo\n",
    "    if not clase: # Si no pertenece a ninguna clase mandar mensaje de error\n",
    "        return False\n",
    "    indxClass = getIndex(clase, ontology) #Indice de la clase\n",
    "    \n",
    "    #Nueva propiedad para el individuo: colocar nombre del atributo y su valor\n",
    "    if type(propertyValue) is bool:\n",
    "        newProperty = {'type':\"bool\", #Solo se diferencian por su tipo\n",
    "                       'name':propertyName,\n",
    "                       'value':propertyValue, \n",
    "                       'priority':0} #La prioridad por default es 0\n",
    "    else:\n",
    "        newProperty = {'type':\"value\", #Solo se diferencian por su tipo\n",
    "                       'name':propertyName,\n",
    "                       'value':propertyValue,\n",
    "                       'bool': boolean,\n",
    "                       'priority':0} #La prioridad por default es 0\n",
    "        \n",
    "    indxObject = getIndexObject(nameObject, clase, ontology) #indice del individuo en la clase\n",
    "    ontology[indxClass][\"individuals\"][indxObject][\"properties\"].append(newProperty)#Agregar a la lista de propiedades del individuo\n",
    "    saveOntology(ontology) #Guardar ontología"
   ]
  },
  {
   "cell_type": "markdown",
   "id": "2b601174-f069-43d3-b5d3-90af4741f188",
   "metadata": {
    "tags": []
   },
   "source": [
    "### Ejemplo 1"
   ]
  },
  {
   "cell_type": "markdown",
   "id": "ca29e41a-ba19-4bbb-9b6f-39c1f5e0ddcc",
   "metadata": {},
   "source": [
    "Propiedades del objeto \"roberto\"."
   ]
  },
  {
   "cell_type": "code",
   "execution_count": 52,
   "id": "ba8d1cbc-25b7-4a2c-94f0-c17bf98f6ebf",
   "metadata": {
    "execution": {
     "iopub.execute_input": "2021-12-16T05:00:10.888982Z",
     "iopub.status.busy": "2021-12-16T05:00:10.888925Z",
     "iopub.status.idle": "2021-12-16T05:00:10.891380Z",
     "shell.execute_reply": "2021-12-16T05:00:10.891170Z",
     "shell.execute_reply.started": "2021-12-16T05:00:10.888974Z"
    },
    "tags": []
   },
   "outputs": [
    {
     "data": {
      "text/plain": [
       "[{'type': 'bool', 'name': 'fun', 'value': True, 'priority': 0},\n",
       " {'type': 'bool', 'name': 'teach', 'value': False, 'priority': 0},\n",
       " {'type': 'bool', 'name': 'sport', 'value': False, 'priority': 0}]"
      ]
     },
     "execution_count": 52,
     "metadata": {},
     "output_type": "execute_result"
    }
   ],
   "source": [
    "propertiesOfObject(\"roberto\", ontology)"
   ]
  },
  {
   "cell_type": "markdown",
   "id": "1a27c422-fa61-4013-9e8f-a4a6171f62f7",
   "metadata": {},
   "source": [
    "Se agrega una propiedad boleana \"sport\" con el valor True."
   ]
  },
  {
   "cell_type": "code",
   "execution_count": 53,
   "id": "820f8576-a44e-42f9-9f01-5ea9a8cd0aae",
   "metadata": {
    "execution": {
     "iopub.execute_input": "2021-12-16T05:00:10.891871Z",
     "iopub.status.busy": "2021-12-16T05:00:10.891815Z",
     "iopub.status.idle": "2021-12-16T05:00:10.894174Z",
     "shell.execute_reply": "2021-12-16T05:00:10.893934Z",
     "shell.execute_reply.started": "2021-12-16T05:00:10.891863Z"
    },
    "tags": []
   },
   "outputs": [],
   "source": [
    "addObjectProperty(\"roberto\", \"sport\", True, ontology)"
   ]
  },
  {
   "cell_type": "markdown",
   "id": "e8b4931d-a9e9-4006-8d19-6eee91b206ab",
   "metadata": {},
   "source": [
    "Se agrega una propiedad de valor \"size\" con el valor \"small\" positiva."
   ]
  },
  {
   "cell_type": "code",
   "execution_count": 54,
   "id": "6b1552cd-c4d7-4e19-9ca0-92b02c613c42",
   "metadata": {
    "execution": {
     "iopub.execute_input": "2021-12-16T05:00:10.894639Z",
     "iopub.status.busy": "2021-12-16T05:00:10.894573Z",
     "iopub.status.idle": "2021-12-16T05:00:10.896737Z",
     "shell.execute_reply": "2021-12-16T05:00:10.896506Z",
     "shell.execute_reply.started": "2021-12-16T05:00:10.894631Z"
    },
    "tags": []
   },
   "outputs": [],
   "source": [
    "addObjectProperty(\"roberto\", \"size\", \"small\", ontology)"
   ]
  },
  {
   "cell_type": "markdown",
   "id": "0c48ce55-5ad0-429c-827b-bedf2f1b9d5d",
   "metadata": {},
   "source": [
    "Propiedades del \"objeto\" despues de añadir nuevos elementos."
   ]
  },
  {
   "cell_type": "code",
   "execution_count": 55,
   "id": "91a68c48-8655-4b93-9ae4-5d05ef84464a",
   "metadata": {
    "execution": {
     "iopub.execute_input": "2021-12-16T05:00:10.897303Z",
     "iopub.status.busy": "2021-12-16T05:00:10.897194Z",
     "iopub.status.idle": "2021-12-16T05:00:10.899632Z",
     "shell.execute_reply": "2021-12-16T05:00:10.899387Z",
     "shell.execute_reply.started": "2021-12-16T05:00:10.897294Z"
    },
    "tags": []
   },
   "outputs": [
    {
     "data": {
      "text/plain": [
       "[{'type': 'bool', 'name': 'sport', 'value': True, 'priority': 0},\n",
       " {'type': 'value',\n",
       "  'name': 'size',\n",
       "  'value': 'small',\n",
       "  'bool': True,\n",
       "  'priority': 0},\n",
       " {'type': 'bool', 'name': 'fun', 'value': True, 'priority': 0},\n",
       " {'type': 'bool', 'name': 'teach', 'value': False, 'priority': 0}]"
      ]
     },
     "execution_count": 55,
     "metadata": {},
     "output_type": "execute_result"
    }
   ],
   "source": [
    "propertiesOfObject(\"roberto\", ontology)"
   ]
  },
  {
   "cell_type": "markdown",
   "id": "ba2eb565-4c8e-4301-bf03-5d29e74cce1c",
   "metadata": {},
   "source": [
    "### C.1 Relaciones de clases "
   ]
  },
  {
   "cell_type": "markdown",
   "id": "89f94f87-f167-4038-8f0a-d39869369bb4",
   "metadata": {},
   "source": [
    "Agrega una relacion a una clase con otra clase u objeto"
   ]
  },
  {
   "cell_type": "code",
   "execution_count": 56,
   "id": "ffc9e7c9-591d-42f9-b758-f3a83e504fc4",
   "metadata": {
    "execution": {
     "iopub.execute_input": "2021-12-16T05:00:10.900158Z",
     "iopub.status.busy": "2021-12-16T05:00:10.900099Z",
     "iopub.status.idle": "2021-12-16T05:00:10.904001Z",
     "shell.execute_reply": "2021-12-16T05:00:10.903634Z",
     "shell.execute_reply.started": "2021-12-16T05:00:10.900150Z"
    },
    "tags": []
   },
   "outputs": [],
   "source": [
    "def addClassRelation(nameClass, newRelation, otherClasses_Objects, ontology, value=True):\n",
    "    \n",
    "    if not isInClass(nameClass, ontology):\n",
    "        #raise Error('Error: La clase no esta en la ontologia.')\n",
    "        return False\n",
    "    \n",
    "    if type(otherClasses_Objects) is not list:\n",
    "        otherClasses_Objects = [otherClasses_Objects]\n",
    "    \n",
    "    for element in otherClasses_Objects:\n",
    "        if not isInClass(element, ontology):\n",
    "            if not getObjectClass(element,ontology):\n",
    "                ##raise Error('Error: La clase o individuo para asignar esa relacion no esta en la ontologia.')\n",
    "                return False\n",
    "            \n",
    "    objects = otherClasses_Objects[0] if len(otherClasses_Objects) == 1 else otherClasses_Objects\n",
    "    \n",
    "    newRelation = {'type':'value',\n",
    "                   'subject': newRelation,\n",
    "                   'object': objects,\n",
    "                   'value': value,\n",
    "                   'priority': 0}\n",
    "    \n",
    "    # Indice de la clase\n",
    "    indxClass = getIndex(nameClass, ontology)\n",
    "    \n",
    "    ontology[indxClass]['relations'].append(newRelation)\n",
    "    saveOntology(ontology)"
   ]
  },
  {
   "cell_type": "markdown",
   "id": "d106cc34-5953-48bb-b6e4-0b33239af5b6",
   "metadata": {
    "tags": []
   },
   "source": [
    "### Ejemplo 1"
   ]
  },
  {
   "cell_type": "markdown",
   "id": "200e7a7e-60c5-4d77-9d03-25f17f2f5459",
   "metadata": {},
   "source": [
    "Relaciones de la clase \"teachers\"."
   ]
  },
  {
   "cell_type": "code",
   "execution_count": 57,
   "id": "93917c25-ad32-418c-94df-44b7d312e55b",
   "metadata": {
    "execution": {
     "iopub.execute_input": "2021-12-16T05:00:10.904539Z",
     "iopub.status.busy": "2021-12-16T05:00:10.904471Z",
     "iopub.status.idle": "2021-12-16T05:00:10.906678Z",
     "shell.execute_reply": "2021-12-16T05:00:10.906435Z",
     "shell.execute_reply.started": "2021-12-16T05:00:10.904531Z"
    },
    "tags": []
   },
   "outputs": [
    {
     "data": {
      "text/plain": [
       "[]"
      ]
     },
     "execution_count": 57,
     "metadata": {},
     "output_type": "execute_result"
    }
   ],
   "source": [
    "allRelationshipsOneClass(\"teachers\", ontology)"
   ]
  },
  {
   "cell_type": "markdown",
   "id": "3640c123-c3a8-4688-ad0b-181e61d8466a",
   "metadata": {},
   "source": [
    "Se agrega una relacion positiva \"lectures\" relacionadola con la clase \"courses\"."
   ]
  },
  {
   "cell_type": "code",
   "execution_count": 58,
   "id": "c02b5814-fa1a-42f9-9982-5a2542a9952c",
   "metadata": {
    "execution": {
     "iopub.execute_input": "2021-12-16T05:00:10.907089Z",
     "iopub.status.busy": "2021-12-16T05:00:10.907019Z",
     "iopub.status.idle": "2021-12-16T05:00:10.909276Z",
     "shell.execute_reply": "2021-12-16T05:00:10.909009Z",
     "shell.execute_reply.started": "2021-12-16T05:00:10.907081Z"
    },
    "tags": []
   },
   "outputs": [],
   "source": [
    "addClassRelation(\"teachers\", \"lectures\", \"courses\", ontology)"
   ]
  },
  {
   "cell_type": "markdown",
   "id": "350e751c-a9a8-4aa8-8bb0-5df05846dfbc",
   "metadata": {},
   "source": [
    "Se agrega una relacion negativa \"friends\" relacionadola con el objeto \"tom\"."
   ]
  },
  {
   "cell_type": "code",
   "execution_count": 59,
   "id": "42c08521-5a68-4c89-baf0-df3b72198faf",
   "metadata": {
    "execution": {
     "iopub.execute_input": "2021-12-16T05:00:10.909818Z",
     "iopub.status.busy": "2021-12-16T05:00:10.909757Z",
     "iopub.status.idle": "2021-12-16T05:00:10.912497Z",
     "shell.execute_reply": "2021-12-16T05:00:10.912261Z",
     "shell.execute_reply.started": "2021-12-16T05:00:10.909810Z"
    },
    "tags": []
   },
   "outputs": [],
   "source": [
    "addClassRelation(\"teachers\", \"friends\", \"tom\", ontology, value=False)"
   ]
  },
  {
   "cell_type": "markdown",
   "id": "8bdc99a5-b125-4992-98a7-c4bae547f74f",
   "metadata": {},
   "source": [
    "Relaciones de la clase \"teachers\" despues de las modificaciones."
   ]
  },
  {
   "cell_type": "code",
   "execution_count": 60,
   "id": "77fbbdc5-b5b4-4bd0-8fac-a41addb741b8",
   "metadata": {
    "execution": {
     "iopub.execute_input": "2021-12-16T05:00:10.913030Z",
     "iopub.status.busy": "2021-12-16T05:00:10.912921Z",
     "iopub.status.idle": "2021-12-16T05:00:10.915300Z",
     "shell.execute_reply": "2021-12-16T05:00:10.914996Z",
     "shell.execute_reply.started": "2021-12-16T05:00:10.913022Z"
    },
    "tags": []
   },
   "outputs": [
    {
     "data": {
      "text/plain": [
       "[{'type': 'value',\n",
       "  'subject': 'lectures',\n",
       "  'object': 'courses',\n",
       "  'value': True,\n",
       "  'priority': 0},\n",
       " {'type': 'value',\n",
       "  'subject': 'friends',\n",
       "  'object': 'tom',\n",
       "  'value': False,\n",
       "  'priority': 0}]"
      ]
     },
     "execution_count": 60,
     "metadata": {},
     "output_type": "execute_result"
    }
   ],
   "source": [
    "allRelationshipsOneClass(\"teachers\", ontology)"
   ]
  },
  {
   "cell_type": "markdown",
   "id": "ccef83c6-e0eb-4e5a-bb9f-6fea9b0efe1e",
   "metadata": {},
   "source": [
    "### C.2 Relaciones de clases "
   ]
  },
  {
   "cell_type": "markdown",
   "id": "d1d15903-1822-4216-a04e-1a5d968622e7",
   "metadata": {},
   "source": [
    "Agrega una relacion a un objeto con otra clase u objeto"
   ]
  },
  {
   "cell_type": "code",
   "execution_count": 61,
   "id": "a0faba47-a931-4923-ac5b-c123f771cd89",
   "metadata": {
    "execution": {
     "iopub.execute_input": "2021-12-16T05:00:10.915898Z",
     "iopub.status.busy": "2021-12-16T05:00:10.915809Z",
     "iopub.status.idle": "2021-12-16T05:00:10.919579Z",
     "shell.execute_reply": "2021-12-16T05:00:10.919290Z",
     "shell.execute_reply.started": "2021-12-16T05:00:10.915888Z"
    },
    "tags": []
   },
   "outputs": [],
   "source": [
    "def addObjectRelation(nameObject, newRelation, otherClasses_Objects, ontology, value=True):\n",
    "    \n",
    "    # Clase directa del individuo\n",
    "    clase = getObjectClass(nameObject,ontology) \n",
    "    # Si no pertenece a ninguna clase mandar mensaje de error\n",
    "    if not clase: \n",
    "        #raise Error('Error: El individuo no esta en la ontologia.')\n",
    "        return False\n",
    "    \n",
    "    if type(otherClasses_Objects) is not list:\n",
    "        otherClasses_Objects = [otherClasses_Objects]\n",
    "    \n",
    "    for element in otherClasses_Objects:\n",
    "        if not isInClass(element, ontology):\n",
    "            if not getObjectClass(element,ontology):\n",
    "                #raise Error('Error: La clase o individuo para asignar esa relacion no esta en la ontologia.')\n",
    "                return False\n",
    "            \n",
    "    objects = otherClasses_Objects[0] if len(otherClasses_Objects) == 1 else otherClasses_Objects\n",
    "    \n",
    "    newRelation = {'type':'value',\n",
    "                   'subject': newRelation,\n",
    "                   'object': objects,\n",
    "                   'value': value,\n",
    "                   'priority': 0}\n",
    "    \n",
    "    # Indice de la clase\n",
    "    indxClass = getIndex(clase, ontology)\n",
    "    # Indice del individuo en la clase\n",
    "    indxObject = getIndexObject(nameObject, clase, ontology)\n",
    "    \n",
    "    ontology[indxClass]['individuals'][indxObject]['relations'].append(newRelation)\n",
    "    saveOntology(ontology)"
   ]
  },
  {
   "cell_type": "markdown",
   "id": "b7747025-8f3d-407a-a4bd-f70f6f227ff7",
   "metadata": {
    "tags": []
   },
   "source": [
    "### Ejemplo 1"
   ]
  },
  {
   "cell_type": "markdown",
   "id": "cc85aca5-8e6d-42c7-a4e6-a60ce74f5fc8",
   "metadata": {},
   "source": [
    "Relaciones del objeto \"jose\"."
   ]
  },
  {
   "cell_type": "code",
   "execution_count": 62,
   "id": "ac96ad90-c975-4cd7-89a9-36f0764c07a1",
   "metadata": {
    "execution": {
     "iopub.execute_input": "2021-12-16T05:00:10.920083Z",
     "iopub.status.busy": "2021-12-16T05:00:10.920021Z",
     "iopub.status.idle": "2021-12-16T05:00:10.922312Z",
     "shell.execute_reply": "2021-12-16T05:00:10.922076Z",
     "shell.execute_reply.started": "2021-12-16T05:00:10.920075Z"
    },
    "tags": []
   },
   "outputs": [
    {
     "data": {
      "text/plain": [
       "[]"
      ]
     },
     "execution_count": 62,
     "metadata": {},
     "output_type": "execute_result"
    }
   ],
   "source": [
    "allRelationshipsOneObject(\"jose\", ontology)"
   ]
  },
  {
   "cell_type": "markdown",
   "id": "221842d5-e7e6-48d6-a7a3-e12d8bab3090",
   "metadata": {},
   "source": [
    "Se agrega una relacion positiva \"lover\" relacionadola con el objeto \"mary\"."
   ]
  },
  {
   "cell_type": "code",
   "execution_count": 63,
   "id": "e72c66c6-b296-4c94-a7dc-82477b5c2b94",
   "metadata": {
    "execution": {
     "iopub.execute_input": "2021-12-16T05:00:10.922792Z",
     "iopub.status.busy": "2021-12-16T05:00:10.922657Z",
     "iopub.status.idle": "2021-12-16T05:00:10.925260Z",
     "shell.execute_reply": "2021-12-16T05:00:10.925011Z",
     "shell.execute_reply.started": "2021-12-16T05:00:10.922770Z"
    },
    "tags": []
   },
   "outputs": [],
   "source": [
    "addObjectRelation(\"jose\", \"lover\", \"mary\", ontology, value=True)"
   ]
  },
  {
   "cell_type": "markdown",
   "id": "db6c4614-e7c2-478a-af4b-08179b6a2fc6",
   "metadata": {},
   "source": [
    "Se agrega una relacion positiva \"cleans\" relacionadola con la clase \"rooms\"."
   ]
  },
  {
   "cell_type": "code",
   "execution_count": 64,
   "id": "448f39fe-2b7d-4910-a04d-92149c36af59",
   "metadata": {
    "execution": {
     "iopub.execute_input": "2021-12-16T05:00:10.925851Z",
     "iopub.status.busy": "2021-12-16T05:00:10.925726Z",
     "iopub.status.idle": "2021-12-16T05:00:10.928396Z",
     "shell.execute_reply": "2021-12-16T05:00:10.928131Z",
     "shell.execute_reply.started": "2021-12-16T05:00:10.925842Z"
    },
    "tags": []
   },
   "outputs": [],
   "source": [
    "addObjectRelation(\"jose\", \"cleans\", \"rooms\", ontology, value=True)"
   ]
  },
  {
   "cell_type": "markdown",
   "id": "c05fb5b4-1293-4fcd-9bda-d91b2135d48f",
   "metadata": {},
   "source": [
    "Relaciones del objeto \"jose\" despues de las modificaciones."
   ]
  },
  {
   "cell_type": "code",
   "execution_count": 65,
   "id": "e66776b9-0217-40b9-9a8d-4c1b8aa652e3",
   "metadata": {
    "execution": {
     "iopub.execute_input": "2021-12-16T05:00:10.929029Z",
     "iopub.status.busy": "2021-12-16T05:00:10.928851Z",
     "iopub.status.idle": "2021-12-16T05:00:10.931492Z",
     "shell.execute_reply": "2021-12-16T05:00:10.931244Z",
     "shell.execute_reply.started": "2021-12-16T05:00:10.929017Z"
    },
    "tags": []
   },
   "outputs": [
    {
     "data": {
      "text/plain": [
       "[{'type': 'value',\n",
       "  'subject': 'lover',\n",
       "  'object': 'mary',\n",
       "  'value': True,\n",
       "  'priority': 0},\n",
       " {'type': 'value',\n",
       "  'subject': 'cleans',\n",
       "  'object': 'rooms',\n",
       "  'value': True,\n",
       "  'priority': 0}]"
      ]
     },
     "execution_count": 65,
     "metadata": {},
     "output_type": "execute_result"
    }
   ],
   "source": [
    "allRelationshipsOneObject(\"jose\", ontology)"
   ]
  },
  {
   "cell_type": "markdown",
   "id": "d141e361-3b11-4c10-9549-7210e371edc6",
   "metadata": {},
   "source": [
    "## 3. Predicados para eliminar"
   ]
  },
  {
   "cell_type": "markdown",
   "id": "1684d487-cd79-4c0d-b92e-6292be841a01",
   "metadata": {},
   "source": [
    "### A.1 Clases"
   ]
  },
  {
   "cell_type": "markdown",
   "id": "138c39b6-6326-4efe-9f55-9c71a8a0f504",
   "metadata": {},
   "source": [
    "Elimina la clase nameClass (string) y las subclases de la misma de una ontología (list), junto con sus individuos."
   ]
  },
  {
   "cell_type": "code",
   "execution_count": 66,
   "id": "a1786dab-1334-44f8-9704-6aa30120b175",
   "metadata": {
    "execution": {
     "iopub.execute_input": "2021-12-16T05:00:10.932016Z",
     "iopub.status.busy": "2021-12-16T05:00:10.931934Z",
     "iopub.status.idle": "2021-12-16T05:00:10.934226Z",
     "shell.execute_reply": "2021-12-16T05:00:10.933993Z",
     "shell.execute_reply.started": "2021-12-16T05:00:10.932006Z"
    },
    "tags": []
   },
   "outputs": [],
   "source": [
    "def removeClass(nameClass, ontology):\n",
    "    \n",
    "    indxClass = getIndex(nameClass, ontology) #Indice de la clase \n",
    "    if not isInClass(nameClass,ontology): # Si no existe la clase en la ontología: \n",
    "        #raise Error('Error: La Clase no esta en la ontologia.') # Mandar mensaje de error\n",
    "        return False\n",
    "    ind = ontology[indxClass]['individuals']\n",
    "    mother = ontology[indxClass]['mother']\n",
    "    ontology.pop(indxClass) #Eliminar la clase de la ontologia\n",
    "    for clase in ontology:\n",
    "        if clase['mother'] == nameClass:\n",
    "            clase['mother'] = mother\n",
    "    indxMother = getIndex(mother, ontology) #Indice de la clase \n",
    "    ontology[indxMother]['individuals'].extend(ind)\n",
    "    saveOntology(ontology) #Guardar ontología"
   ]
  },
  {
   "cell_type": "markdown",
   "id": "1e7ab4f5-88b8-4515-b16e-f93583faa3df",
   "metadata": {},
   "source": [
    "### Ejemplo 1"
   ]
  },
  {
   "cell_type": "markdown",
   "id": "5b91fe8b-a2ce-41e4-9880-c613d519ba22",
   "metadata": {},
   "source": [
    "Arbol jerarquico de la ontologia antes de eliminar una clase."
   ]
  },
  {
   "cell_type": "code",
   "execution_count": 67,
   "id": "da765a17-c2e4-49dd-bcb1-7991c5d51f8d",
   "metadata": {
    "execution": {
     "iopub.execute_input": "2021-12-16T05:00:10.934685Z",
     "iopub.status.busy": "2021-12-16T05:00:10.934629Z",
     "iopub.status.idle": "2021-12-16T05:00:10.936878Z",
     "shell.execute_reply": "2021-12-16T05:00:10.936653Z",
     "shell.execute_reply.started": "2021-12-16T05:00:10.934677Z"
    }
   },
   "outputs": [
    {
     "data": {
      "text/plain": [
       "[[0, 'top'],\n",
       " [1, 'objects'],\n",
       " [2, 'concrete'],\n",
       " [2, 'abstract'],\n",
       " [3, 'people'],\n",
       " [3, 'rooms'],\n",
       " [3, 'courses'],\n",
       " [4, 'students'],\n",
       " [4, 'faculty members'],\n",
       " [4, 'library staff'],\n",
       " [4, 'restrooms'],\n",
       " [5, 'teachers']]"
      ]
     },
     "execution_count": 67,
     "metadata": {},
     "output_type": "execute_result"
    }
   ],
   "source": [
    "hierarchyTree(ontology)"
   ]
  },
  {
   "cell_type": "markdown",
   "id": "96d2c7fc-9cef-4a3c-8a6a-dbe11d7a5af1",
   "metadata": {},
   "source": [
    "Se elimina la clase \"rooms\"."
   ]
  },
  {
   "cell_type": "code",
   "execution_count": 68,
   "id": "1b86a4f2-9b20-4df8-87dc-f2afbc517fba",
   "metadata": {
    "execution": {
     "iopub.execute_input": "2021-12-16T05:00:10.937291Z",
     "iopub.status.busy": "2021-12-16T05:00:10.937238Z",
     "iopub.status.idle": "2021-12-16T05:00:10.939495Z",
     "shell.execute_reply": "2021-12-16T05:00:10.939267Z",
     "shell.execute_reply.started": "2021-12-16T05:00:10.937283Z"
    },
    "tags": []
   },
   "outputs": [],
   "source": [
    "removeClass(\"rooms\",ontology)"
   ]
  },
  {
   "cell_type": "markdown",
   "id": "8b399f01-c01d-45cc-8979-daef5dcdf138",
   "metadata": {},
   "source": [
    "Arbol jerarquico de la ontologia despues de eliminar una clase."
   ]
  },
  {
   "cell_type": "code",
   "execution_count": 69,
   "id": "c22f03ab-83d7-433a-8092-3ff13e8ecb22",
   "metadata": {
    "execution": {
     "iopub.execute_input": "2021-12-16T05:00:10.939886Z",
     "iopub.status.busy": "2021-12-16T05:00:10.939829Z",
     "iopub.status.idle": "2021-12-16T05:00:10.942212Z",
     "shell.execute_reply": "2021-12-16T05:00:10.941971Z",
     "shell.execute_reply.started": "2021-12-16T05:00:10.939878Z"
    },
    "tags": []
   },
   "outputs": [
    {
     "data": {
      "text/plain": [
       "[[0, 'top'],\n",
       " [1, 'objects'],\n",
       " [2, 'concrete'],\n",
       " [2, 'abstract'],\n",
       " [3, 'people'],\n",
       " [3, 'restrooms'],\n",
       " [3, 'courses'],\n",
       " [4, 'students'],\n",
       " [4, 'faculty members'],\n",
       " [4, 'library staff'],\n",
       " [5, 'teachers']]"
      ]
     },
     "execution_count": 69,
     "metadata": {},
     "output_type": "execute_result"
    }
   ],
   "source": [
    "hierarchyTree(ontology)"
   ]
  },
  {
   "cell_type": "markdown",
   "id": "de22c30b-17da-420e-bf5d-b9971e40c8cb",
   "metadata": {
    "tags": []
   },
   "source": [
    "### A.2 Objetos"
   ]
  },
  {
   "cell_type": "markdown",
   "id": "daea3147-448d-4f6f-92a3-e90062e7944b",
   "metadata": {},
   "source": [
    "Elimina un objeto nameObject (string) de una ontología (list)"
   ]
  },
  {
   "cell_type": "code",
   "execution_count": 70,
   "id": "78ced71a-e965-4ca5-b8f7-a496e9f42967",
   "metadata": {
    "execution": {
     "iopub.execute_input": "2021-12-16T05:00:10.942605Z",
     "iopub.status.busy": "2021-12-16T05:00:10.942538Z",
     "iopub.status.idle": "2021-12-16T05:00:10.944664Z",
     "shell.execute_reply": "2021-12-16T05:00:10.944428Z",
     "shell.execute_reply.started": "2021-12-16T05:00:10.942585Z"
    }
   },
   "outputs": [],
   "source": [
    "def removeObject(nameObject, ontology):\n",
    "    nameClass = getObjectClass(nameObject,ontology) #Clase del objeto\n",
    "    if not nameClass:\n",
    "        #raise Error('Error: El objeto no existe.')\n",
    "        return False\n",
    "    indexClass = getIndex(nameClass, ontology) #Indice de la clase\n",
    "    indexObject = getIndexObject(nameObject, nameClass, ontology) #Indice del objeto\n",
    "    ontology[indexClass][\"individuals\"].pop(indexObject) #Eliminar objeto \n",
    "    saveOntology(ontology) #Guardar ontología"
   ]
  },
  {
   "cell_type": "markdown",
   "id": "daea6ed9-8e0f-4922-bd0d-14c9baccc983",
   "metadata": {},
   "source": [
    "### Ejemplo 1"
   ]
  },
  {
   "cell_type": "markdown",
   "id": "f7a3b204-410b-4da0-a457-b6e04d2bf25c",
   "metadata": {},
   "source": [
    "Extension de la clase \"people\"."
   ]
  },
  {
   "cell_type": "code",
   "execution_count": 71,
   "id": "c168028a-7223-444b-9f37-5bf1a8c61a7d",
   "metadata": {
    "execution": {
     "iopub.execute_input": "2021-12-16T05:00:10.945209Z",
     "iopub.status.busy": "2021-12-16T05:00:10.945110Z",
     "iopub.status.idle": "2021-12-16T05:00:10.947560Z",
     "shell.execute_reply": "2021-12-16T05:00:10.947315Z",
     "shell.execute_reply.started": "2021-12-16T05:00:10.945200Z"
    },
    "tags": []
   },
   "outputs": [
    {
     "data": {
      "text/plain": [
       "['pete', 'anne', 'mary', 'tom', 'jose', 'roberto']"
      ]
     },
     "execution_count": 71,
     "metadata": {},
     "output_type": "execute_result"
    }
   ],
   "source": [
    "classExtention(\"people\", ontology)"
   ]
  },
  {
   "cell_type": "markdown",
   "id": "d6bcc042-ec25-4a60-858b-a78b8a36ebc0",
   "metadata": {},
   "source": [
    "Se elimina el objeto \"roberto\"."
   ]
  },
  {
   "cell_type": "code",
   "execution_count": 72,
   "id": "dcde6064-82e5-4592-9946-8b202d435943",
   "metadata": {
    "execution": {
     "iopub.execute_input": "2021-12-16T05:00:10.948091Z",
     "iopub.status.busy": "2021-12-16T05:00:10.948029Z",
     "iopub.status.idle": "2021-12-16T05:00:10.950679Z",
     "shell.execute_reply": "2021-12-16T05:00:10.950445Z",
     "shell.execute_reply.started": "2021-12-16T05:00:10.948084Z"
    }
   },
   "outputs": [],
   "source": [
    "removeObject(\"roberto\", ontology)"
   ]
  },
  {
   "cell_type": "markdown",
   "id": "f7d77395-5e5c-4c90-8623-31907fedc4b1",
   "metadata": {},
   "source": [
    "Extension de la clase \"people\" despues de eliminar el objeto."
   ]
  },
  {
   "cell_type": "code",
   "execution_count": 73,
   "id": "1d4696da-31e8-4795-8b6c-dbcb0af23a21",
   "metadata": {
    "execution": {
     "iopub.execute_input": "2021-12-16T05:00:10.951129Z",
     "iopub.status.busy": "2021-12-16T05:00:10.951055Z",
     "iopub.status.idle": "2021-12-16T05:00:10.953248Z",
     "shell.execute_reply": "2021-12-16T05:00:10.953014Z",
     "shell.execute_reply.started": "2021-12-16T05:00:10.951121Z"
    }
   },
   "outputs": [
    {
     "data": {
      "text/plain": [
       "['pete', 'anne', 'mary', 'tom', 'jose']"
      ]
     },
     "execution_count": 73,
     "metadata": {},
     "output_type": "execute_result"
    }
   ],
   "source": [
    "classExtention(\"people\", ontology)"
   ]
  },
  {
   "cell_type": "markdown",
   "id": "59cb1821-5a62-4a8f-8ce5-3cce8831e271",
   "metadata": {},
   "source": [
    "### B.1 Propiedades específicas de clases"
   ]
  },
  {
   "cell_type": "markdown",
   "id": "7626df8c-18c6-4de0-880f-24a23364de15",
   "metadata": {},
   "source": [
    "Elimina propiedades específicas de una clase nameClass (string) de una ontología (list):\n",
    "Si la propiedad es de tipo bool o value: \n",
    "- propertyClass (string), consequent = None.\n",
    "- Si la propiedad es de implicacion: \n",
    "- propertyClass (list: atributo, valor), consequent (list: atributo, valor)."
   ]
  },
  {
   "cell_type": "code",
   "execution_count": 74,
   "id": "39022379-6ae0-4d47-91d6-ed1af6bc9a01",
   "metadata": {
    "execution": {
     "iopub.execute_input": "2021-12-16T05:00:10.953813Z",
     "iopub.status.busy": "2021-12-16T05:00:10.953657Z",
     "iopub.status.idle": "2021-12-16T05:00:10.955615Z",
     "shell.execute_reply": "2021-12-16T05:00:10.955394Z",
     "shell.execute_reply.started": "2021-12-16T05:00:10.953803Z"
    },
    "tags": []
   },
   "outputs": [],
   "source": [
    "def removeClassProperty(propertyClass, nameClass, ontology, consequent = None):\n",
    "    indxProp = getPropertyClassIndex(propertyClass, nameClass, ontology, consequent) #indice de la propiedad\n",
    "    indxClass = getIndex(nameClass, ontology) #indice de la clase\n",
    "    ontology[indxClass]['properties'].pop(indxProp) #Eliminar propiedad\n",
    "    saveOntology(ontology) #Guardar ontología"
   ]
  },
  {
   "cell_type": "markdown",
   "id": "1889f735-9507-46e5-a045-5af6abb07a72",
   "metadata": {},
   "source": [
    "### Ejemplo 1"
   ]
  },
  {
   "cell_type": "markdown",
   "id": "68d48762-1779-436e-af87-df0fd6de9020",
   "metadata": {},
   "source": [
    "Se obtienen las propiedades de la clase \"students\"."
   ]
  },
  {
   "cell_type": "code",
   "execution_count": 75,
   "id": "acf49831-7eaf-4b09-a80c-f364bc148db6",
   "metadata": {
    "execution": {
     "iopub.execute_input": "2021-12-16T05:00:10.956091Z",
     "iopub.status.busy": "2021-12-16T05:00:10.956037Z",
     "iopub.status.idle": "2021-12-16T05:00:10.958659Z",
     "shell.execute_reply": "2021-12-16T05:00:10.958403Z",
     "shell.execute_reply.started": "2021-12-16T05:00:10.956083Z"
    },
    "tags": []
   },
   "outputs": [
    {
     "data": {
      "text/plain": [
       "[{'type': 'bool', 'name': 'sport', 'value': True, 'priority': 0},\n",
       " {'type': 'bool', 'name': 'fun', 'value': False, 'priority': 0},\n",
       " {'type': 'bool', 'name': 'teach', 'value': False, 'priority': 0},\n",
       " {'type': 'imp',\n",
       "  'antecedent': 'work',\n",
       "  'consequent': 'study',\n",
       "  'value': [True, True],\n",
       "  'priority': 3},\n",
       " {'type': 'imp',\n",
       "  'antecedent': 'like',\n",
       "  'consequent': 'study',\n",
       "  'value': [True, True],\n",
       "  'priority': 4},\n",
       " {'type': 'imp',\n",
       "  'antecedent': 'born',\n",
       "  'consequent': 'study',\n",
       "  'value': [True, True],\n",
       "  'priority': 5}]"
      ]
     },
     "execution_count": 75,
     "metadata": {},
     "output_type": "execute_result"
    }
   ],
   "source": [
    "propertiesOfClass(\"students\", ontology)"
   ]
  },
  {
   "cell_type": "markdown",
   "id": "aeb7a732-1140-4801-89a7-2363e092729f",
   "metadata": {},
   "source": [
    "Se elimina la propiedad de implicacion \"born( ) =>> study( )\"."
   ]
  },
  {
   "cell_type": "code",
   "execution_count": 76,
   "id": "a6600d9c-7959-49be-90b8-d82d18553396",
   "metadata": {
    "execution": {
     "iopub.execute_input": "2021-12-16T05:00:10.959246Z",
     "iopub.status.busy": "2021-12-16T05:00:10.959131Z",
     "iopub.status.idle": "2021-12-16T05:00:10.961393Z",
     "shell.execute_reply": "2021-12-16T05:00:10.961163Z",
     "shell.execute_reply.started": "2021-12-16T05:00:10.959236Z"
    },
    "tags": []
   },
   "outputs": [],
   "source": [
    "removeClassProperty([[\"born\"],[True]], \"students\", ontology, consequent = [\"study\",True])"
   ]
  },
  {
   "cell_type": "markdown",
   "id": "76a9a438-a850-4f8b-9bed-3c6ca735fae2",
   "metadata": {},
   "source": [
    "Se obtienen las propiedades de la clase \"students\" despues de eliminar la propiedad."
   ]
  },
  {
   "cell_type": "code",
   "execution_count": 77,
   "id": "be3cd842-4550-48b6-9cfb-7411632f72fe",
   "metadata": {
    "execution": {
     "iopub.execute_input": "2021-12-16T05:00:10.961877Z",
     "iopub.status.busy": "2021-12-16T05:00:10.961818Z",
     "iopub.status.idle": "2021-12-16T05:00:10.964422Z",
     "shell.execute_reply": "2021-12-16T05:00:10.964191Z",
     "shell.execute_reply.started": "2021-12-16T05:00:10.961870Z"
    }
   },
   "outputs": [
    {
     "data": {
      "text/plain": [
       "[{'type': 'bool', 'name': 'sport', 'value': True, 'priority': 0},\n",
       " {'type': 'bool', 'name': 'fun', 'value': False, 'priority': 0},\n",
       " {'type': 'bool', 'name': 'teach', 'value': False, 'priority': 0},\n",
       " {'type': 'imp',\n",
       "  'antecedent': 'work',\n",
       "  'consequent': 'study',\n",
       "  'value': [True, True],\n",
       "  'priority': 3},\n",
       " {'type': 'imp',\n",
       "  'antecedent': 'like',\n",
       "  'consequent': 'study',\n",
       "  'value': [True, True],\n",
       "  'priority': 4}]"
      ]
     },
     "execution_count": 77,
     "metadata": {},
     "output_type": "execute_result"
    }
   ],
   "source": [
    "propertiesOfClass(\"students\", ontology)"
   ]
  },
  {
   "cell_type": "markdown",
   "id": "72887452-213f-45db-988e-9d00838646c9",
   "metadata": {},
   "source": [
    "### B.2 Propiedades específicas de Objeto"
   ]
  },
  {
   "cell_type": "markdown",
   "id": "6a9ec7fe-ac54-4676-b81f-d5ced82ad4a2",
   "metadata": {},
   "source": [
    "Elimina propiedades especificas propertyObject (String) de un objeto nameObject (string), pueden ser booleanas o de valor."
   ]
  },
  {
   "cell_type": "code",
   "execution_count": 78,
   "id": "0c7a09f1-59f3-4264-8f30-4d9b1a83eb0e",
   "metadata": {
    "execution": {
     "iopub.execute_input": "2021-12-16T05:00:10.964916Z",
     "iopub.status.busy": "2021-12-16T05:00:10.964859Z",
     "iopub.status.idle": "2021-12-16T05:00:10.966915Z",
     "shell.execute_reply": "2021-12-16T05:00:10.966697Z",
     "shell.execute_reply.started": "2021-12-16T05:00:10.964909Z"
    }
   },
   "outputs": [],
   "source": [
    "def removeObjectProperty(propertyObject, nameObject, ontology):\n",
    "    indxProperty = getPropertyObjectIndex(propertyObject, nameObject, ontology)\n",
    "    #Falta poner caso en donde no exista la propiedad en el objeto\n",
    "    nameClass = getObjectClass(nameObject, ontology) #Clase del objeto\n",
    "    indxClass = getIndex(nameClass, ontology) # indice de clase en la ontologia\n",
    "    indxObject = getIndexObject(nameObject, nameClass, ontology) #Indice del objeto en la clase\n",
    "    ontology[indxClass]['individuals'][indxObject]['properties'].pop(indxProperty) #eliminar propiedad\n",
    "    saveOntology(ontology) #Guardar ontología"
   ]
  },
  {
   "cell_type": "markdown",
   "id": "98571a37-615b-4c02-87a4-fdba5455a53c",
   "metadata": {},
   "source": [
    "### Ejemplo 1"
   ]
  },
  {
   "cell_type": "markdown",
   "id": "4a29496f-4c7a-44f2-bc9b-d4da8960802b",
   "metadata": {},
   "source": [
    "Propiedades del objeto \"tom\"."
   ]
  },
  {
   "cell_type": "code",
   "execution_count": 79,
   "id": "87c5ece8-dae0-4096-92d0-8b22096d90ed",
   "metadata": {
    "execution": {
     "iopub.execute_input": "2021-12-16T05:00:10.967356Z",
     "iopub.status.busy": "2021-12-16T05:00:10.967296Z",
     "iopub.status.idle": "2021-12-16T05:00:10.969798Z",
     "shell.execute_reply": "2021-12-16T05:00:10.969495Z",
     "shell.execute_reply.started": "2021-12-16T05:00:10.967348Z"
    },
    "tags": []
   },
   "outputs": [
    {
     "data": {
      "text/plain": [
       "[{'type': 'bool', 'name': 'sport', 'value': True, 'priority': 0},\n",
       " {'type': 'value',\n",
       "  'name': 'size',\n",
       "  'value': 'short',\n",
       "  'bool': True,\n",
       "  'priority': 0},\n",
       " {'type': 'bool', 'name': 'fun', 'value': True, 'priority': 0},\n",
       " {'type': 'bool', 'name': 'teach', 'value': False, 'priority': 0}]"
      ]
     },
     "execution_count": 79,
     "metadata": {},
     "output_type": "execute_result"
    }
   ],
   "source": [
    "propertiesOfObject(\"tom\", ontology)"
   ]
  },
  {
   "cell_type": "markdown",
   "id": "39d948ce-3bef-4b97-b315-6292b16b4b92",
   "metadata": {},
   "source": [
    "Se elimina la propiedad \"size\" del objeto \"tom\"."
   ]
  },
  {
   "cell_type": "code",
   "execution_count": 80,
   "id": "1d483687-b1a7-4cac-84f7-9b8e87a6f76d",
   "metadata": {
    "execution": {
     "iopub.execute_input": "2021-12-16T05:00:10.970372Z",
     "iopub.status.busy": "2021-12-16T05:00:10.970315Z",
     "iopub.status.idle": "2021-12-16T05:00:10.972569Z",
     "shell.execute_reply": "2021-12-16T05:00:10.972326Z",
     "shell.execute_reply.started": "2021-12-16T05:00:10.970365Z"
    },
    "tags": []
   },
   "outputs": [],
   "source": [
    "removeObjectProperty(\"size\", \"tom\", ontology)"
   ]
  },
  {
   "cell_type": "markdown",
   "id": "bed7051c-58ef-43cf-83e1-8e7121ac205e",
   "metadata": {},
   "source": [
    "Propiedades actualizadas del objeto \"tom\"."
   ]
  },
  {
   "cell_type": "code",
   "execution_count": 81,
   "id": "74e6b1a4-ae29-485d-a1ec-b99fa809c770",
   "metadata": {
    "execution": {
     "iopub.execute_input": "2021-12-16T05:00:10.973068Z",
     "iopub.status.busy": "2021-12-16T05:00:10.973007Z",
     "iopub.status.idle": "2021-12-16T05:00:10.975408Z",
     "shell.execute_reply": "2021-12-16T05:00:10.975174Z",
     "shell.execute_reply.started": "2021-12-16T05:00:10.973060Z"
    }
   },
   "outputs": [
    {
     "data": {
      "text/plain": [
       "[{'type': 'bool', 'name': 'sport', 'value': True, 'priority': 0},\n",
       " {'type': 'bool', 'name': 'fun', 'value': True, 'priority': 0},\n",
       " {'type': 'bool', 'name': 'teach', 'value': False, 'priority': 0}]"
      ]
     },
     "execution_count": 81,
     "metadata": {},
     "output_type": "execute_result"
    }
   ],
   "source": [
    "propertiesOfObject(\"tom\", ontology)"
   ]
  },
  {
   "cell_type": "markdown",
   "id": "c48c6623-ff5b-4a0f-bef1-11a71d391a5d",
   "metadata": {},
   "source": [
    "### C.1 Relaciones específicas de clases"
   ]
  },
  {
   "cell_type": "markdown",
   "id": "868e6885-4725-4e2c-a4db-25d60a39e89e",
   "metadata": {},
   "source": [
    "Eliminar relaciones específicas de tipo value de clases "
   ]
  },
  {
   "cell_type": "code",
   "execution_count": 82,
   "id": "34a2eb17-cf4c-45fb-9841-df80c7d2c598",
   "metadata": {
    "execution": {
     "iopub.execute_input": "2021-12-16T05:00:10.975942Z",
     "iopub.status.busy": "2021-12-16T05:00:10.975836Z",
     "iopub.status.idle": "2021-12-16T05:00:10.977873Z",
     "shell.execute_reply": "2021-12-16T05:00:10.977619Z",
     "shell.execute_reply.started": "2021-12-16T05:00:10.975933Z"
    }
   },
   "outputs": [],
   "source": [
    "def removeClassRelation(subjectRelation, objectRelation, nameClass, ontology):\n",
    "    indxCR = getRelationClassIndex(subjectRelation, objectRelation, nameClass, ontology) #indice de la relacion en clase\n",
    "    # if not indxCR:\n",
    "    #     raise Error('No existe relacion en la clase')\n",
    "    indxClass = getIndex(nameClass,ontology) #indice de la clase en la ontologia\n",
    "    ontology[indxClass]['relations'].pop(indxCR) #Eliminar relacion\n",
    "    saveOntology(ontology) #Guardar ontología"
   ]
  },
  {
   "cell_type": "markdown",
   "id": "20279edb-476f-4adf-b5fc-eb594fcca1a2",
   "metadata": {},
   "source": [
    "### Ejemplo 1"
   ]
  },
  {
   "cell_type": "markdown",
   "id": "7c3f4e3f-1732-41e1-ae8d-6c4a808ee883",
   "metadata": {},
   "source": [
    "Se obtienen todas las relaciones de la clase \"teachers\"."
   ]
  },
  {
   "cell_type": "code",
   "execution_count": 83,
   "id": "ef7d440b-0b9d-45dc-b179-9f181c0e9851",
   "metadata": {
    "execution": {
     "iopub.execute_input": "2021-12-16T05:00:10.978344Z",
     "iopub.status.busy": "2021-12-16T05:00:10.978266Z",
     "iopub.status.idle": "2021-12-16T05:00:10.980729Z",
     "shell.execute_reply": "2021-12-16T05:00:10.980492Z",
     "shell.execute_reply.started": "2021-12-16T05:00:10.978335Z"
    }
   },
   "outputs": [
    {
     "data": {
      "text/plain": [
       "[{'type': 'value',\n",
       "  'subject': 'lectures',\n",
       "  'object': 'courses',\n",
       "  'value': True,\n",
       "  'priority': 0},\n",
       " {'type': 'value',\n",
       "  'subject': 'friends',\n",
       "  'object': 'tom',\n",
       "  'value': False,\n",
       "  'priority': 0}]"
      ]
     },
     "execution_count": 83,
     "metadata": {},
     "output_type": "execute_result"
    }
   ],
   "source": [
    "allRelationshipsOneClass(\"teachers\", ontology)"
   ]
  },
  {
   "cell_type": "markdown",
   "id": "dc9b1c85-b65d-4c4e-8a28-0bd445f520ff",
   "metadata": {},
   "source": [
    "Se elimina la relacion \"friends\" de la clase \"teachers\"."
   ]
  },
  {
   "cell_type": "code",
   "execution_count": 84,
   "id": "abcb5442-d341-4f30-9f46-eef35afa300a",
   "metadata": {
    "execution": {
     "iopub.execute_input": "2021-12-16T05:00:10.981246Z",
     "iopub.status.busy": "2021-12-16T05:00:10.981188Z",
     "iopub.status.idle": "2021-12-16T05:00:10.983457Z",
     "shell.execute_reply": "2021-12-16T05:00:10.983216Z",
     "shell.execute_reply.started": "2021-12-16T05:00:10.981239Z"
    },
    "tags": []
   },
   "outputs": [],
   "source": [
    "removeClassRelation(\"friends\", \"tom\", \"teachers\", ontology)"
   ]
  },
  {
   "cell_type": "markdown",
   "id": "0e5e2b92-27dd-4337-83f6-5d094f6b634c",
   "metadata": {},
   "source": [
    "Se obtienen las relaciones actualizadas de la clase \"teachers\"."
   ]
  },
  {
   "cell_type": "code",
   "execution_count": 85,
   "id": "455cf3e6-78e1-4150-bfae-5c06ae065f76",
   "metadata": {
    "execution": {
     "iopub.execute_input": "2021-12-16T05:00:10.984284Z",
     "iopub.status.busy": "2021-12-16T05:00:10.984215Z",
     "iopub.status.idle": "2021-12-16T05:00:10.986629Z",
     "shell.execute_reply": "2021-12-16T05:00:10.986388Z",
     "shell.execute_reply.started": "2021-12-16T05:00:10.984275Z"
    }
   },
   "outputs": [
    {
     "data": {
      "text/plain": [
       "[{'type': 'value',\n",
       "  'subject': 'lectures',\n",
       "  'object': 'courses',\n",
       "  'value': True,\n",
       "  'priority': 0}]"
      ]
     },
     "execution_count": 85,
     "metadata": {},
     "output_type": "execute_result"
    }
   ],
   "source": [
    "allRelationshipsOneClass(\"teachers\", ontology)"
   ]
  },
  {
   "cell_type": "markdown",
   "id": "be7f4cab-ec42-44f4-b933-555e3fe2f8ee",
   "metadata": {},
   "source": [
    "### C.2 Relaciones específicas de objetos"
   ]
  },
  {
   "cell_type": "markdown",
   "id": "a3febaf1-732e-4d48-ac89-f62f471ffd5f",
   "metadata": {},
   "source": [
    "Eliminar relaciones específicas de objetos"
   ]
  },
  {
   "cell_type": "code",
   "execution_count": 86,
   "id": "f0456706-6a6b-46dc-8b2a-712ad7dc99a0",
   "metadata": {
    "execution": {
     "iopub.execute_input": "2021-12-16T05:00:10.987106Z",
     "iopub.status.busy": "2021-12-16T05:00:10.987042Z",
     "iopub.status.idle": "2021-12-16T05:00:10.989215Z",
     "shell.execute_reply": "2021-12-16T05:00:10.988969Z",
     "shell.execute_reply.started": "2021-12-16T05:00:10.987098Z"
    }
   },
   "outputs": [],
   "source": [
    "def removeObjectRelation(subjectRelation, objectRelation, nameObject, ontology):\n",
    "    indxRO = getRelationObjectIndex(subjectRelation, objectRelation, nameObject, ontology)\n",
    "    nameClass = getObjectClass(nameObject, ontology)\n",
    "    indxClass = getIndex(nameClass, ontology) #Indice de clase en ontologia \n",
    "    indxObj = getIndexObject( nameObject, nameClass, ontology) # indice de objeto en clase\n",
    "    ontology[indxClass]['individuals'][indxObj]['relations'].pop(indxRO) #Eliminar relacion de objeto\n",
    "    saveOntology(ontology) #Guardar ontología"
   ]
  },
  {
   "cell_type": "markdown",
   "id": "35b28242-1f8d-4358-af0a-19df69f68d8f",
   "metadata": {},
   "source": [
    "### Ejemplo 1"
   ]
  },
  {
   "cell_type": "markdown",
   "id": "7cedf2a1-41ca-4b2c-b3db-e00004e49026",
   "metadata": {},
   "source": [
    "Se obtienen las relaciones del objeto \"jose\"."
   ]
  },
  {
   "cell_type": "code",
   "execution_count": 87,
   "id": "49620abf-3046-4ed3-811b-ec13dd0743f3",
   "metadata": {
    "execution": {
     "iopub.execute_input": "2021-12-16T05:00:10.989667Z",
     "iopub.status.busy": "2021-12-16T05:00:10.989609Z",
     "iopub.status.idle": "2021-12-16T05:00:10.991755Z",
     "shell.execute_reply": "2021-12-16T05:00:10.991527Z",
     "shell.execute_reply.started": "2021-12-16T05:00:10.989660Z"
    },
    "tags": []
   },
   "outputs": [
    {
     "data": {
      "text/plain": [
       "[{'type': 'value',\n",
       "  'subject': 'lover',\n",
       "  'object': 'mary',\n",
       "  'value': True,\n",
       "  'priority': 0},\n",
       " {'type': 'value',\n",
       "  'subject': 'cleans',\n",
       "  'object': 'rooms',\n",
       "  'value': True,\n",
       "  'priority': 0}]"
      ]
     },
     "execution_count": 87,
     "metadata": {},
     "output_type": "execute_result"
    }
   ],
   "source": [
    "allRelationshipsOneObject(\"jose\", ontology)"
   ]
  },
  {
   "cell_type": "markdown",
   "id": "520ee822-4183-464f-8fd5-b4c6ba95ea4e",
   "metadata": {},
   "source": [
    "Se elimina la relacion \"lover\" del objeto \"jose\"."
   ]
  },
  {
   "cell_type": "code",
   "execution_count": 88,
   "id": "3d928062-dd97-463c-b4a3-3dceeb392b81",
   "metadata": {
    "execution": {
     "iopub.execute_input": "2021-12-16T05:00:10.992300Z",
     "iopub.status.busy": "2021-12-16T05:00:10.992198Z",
     "iopub.status.idle": "2021-12-16T05:00:10.994316Z",
     "shell.execute_reply": "2021-12-16T05:00:10.994067Z",
     "shell.execute_reply.started": "2021-12-16T05:00:10.992292Z"
    },
    "tags": []
   },
   "outputs": [],
   "source": [
    "removeObjectRelation(\"lover\", \"mary\", \"jose\", ontology)"
   ]
  },
  {
   "cell_type": "markdown",
   "id": "f1c03a10-aeac-4895-963e-5c7ae41136cf",
   "metadata": {},
   "source": [
    "Se obtienen las relaciones actualizadas del objeto \"jose\"."
   ]
  },
  {
   "cell_type": "code",
   "execution_count": 89,
   "id": "4d9e9b0c-d2e6-4256-8fda-6f3d0007004c",
   "metadata": {
    "execution": {
     "iopub.execute_input": "2021-12-16T05:00:10.994702Z",
     "iopub.status.busy": "2021-12-16T05:00:10.994642Z",
     "iopub.status.idle": "2021-12-16T05:00:10.997176Z",
     "shell.execute_reply": "2021-12-16T05:00:10.996962Z",
     "shell.execute_reply.started": "2021-12-16T05:00:10.994694Z"
    }
   },
   "outputs": [
    {
     "data": {
      "text/plain": [
       "[{'type': 'value',\n",
       "  'subject': 'cleans',\n",
       "  'object': 'rooms',\n",
       "  'value': True,\n",
       "  'priority': 0}]"
      ]
     },
     "execution_count": 89,
     "metadata": {},
     "output_type": "execute_result"
    }
   ],
   "source": [
    "allRelationshipsOneObject(\"jose\", ontology)"
   ]
  },
  {
   "cell_type": "markdown",
   "id": "55bc2414-165b-4830-ac42-cf788f3d2c2c",
   "metadata": {},
   "source": [
    "## 4. Predicados para modificar"
   ]
  },
  {
   "cell_type": "markdown",
   "id": "365f872b-96ee-4aa8-acfa-acfa78bed7d7",
   "metadata": {},
   "source": [
    "### A.1 El nombre de una clase"
   ]
  },
  {
   "cell_type": "markdown",
   "id": "af81aa5e-1335-4d90-9ed1-46003e4e0f32",
   "metadata": {},
   "source": [
    "Modifica el nombre de una clase nameClase (string), de una por otro nombre newNameClass (string)."
   ]
  },
  {
   "cell_type": "code",
   "execution_count": 90,
   "id": "5f893aee-1252-4b73-9731-cbbc9869a72e",
   "metadata": {
    "execution": {
     "iopub.execute_input": "2021-12-16T05:00:10.997584Z",
     "iopub.status.busy": "2021-12-16T05:00:10.997528Z",
     "iopub.status.idle": "2021-12-16T05:00:10.999905Z",
     "shell.execute_reply": "2021-12-16T05:00:10.999302Z",
     "shell.execute_reply.started": "2021-12-16T05:00:10.997576Z"
    }
   },
   "outputs": [],
   "source": [
    "def changeNameClass(nameClass,newNameClass,ontology):\n",
    "    indexClass = getIndex(nameClass, ontology) #Indice de la clase\n",
    "    if not isInClass(nameClass,ontology): # Si no existe la clase en la ontología: \n",
    "        #raise Error('Error: La Clase no esta en la ontologia.') # Mandar mensaje de error\n",
    "        return False\n",
    "    ontology[indexClass][\"clase\"] = newNameClass #Cambiar el nombre de la clase\n",
    "    saveOntology(ontology) #Guardar ontología"
   ]
  },
  {
   "cell_type": "markdown",
   "id": "72278fa3-b078-4779-941a-be6ba07ba8b8",
   "metadata": {},
   "source": [
    "### Ejemplo 1"
   ]
  },
  {
   "cell_type": "markdown",
   "id": "8d0e9df4-730c-46f0-bc4f-b58edfd7a449",
   "metadata": {},
   "source": [
    "Se obtienen el arbol jerárquico con los nombres de clase."
   ]
  },
  {
   "cell_type": "code",
   "execution_count": 91,
   "id": "b9f4d0ef-12ef-4278-86b8-338f9d46db4d",
   "metadata": {
    "execution": {
     "iopub.execute_input": "2021-12-16T05:00:11.000598Z",
     "iopub.status.busy": "2021-12-16T05:00:11.000473Z",
     "iopub.status.idle": "2021-12-16T05:00:11.003756Z",
     "shell.execute_reply": "2021-12-16T05:00:11.003494Z",
     "shell.execute_reply.started": "2021-12-16T05:00:11.000588Z"
    }
   },
   "outputs": [
    {
     "data": {
      "text/plain": [
       "[[0, 'top'],\n",
       " [1, 'objects'],\n",
       " [2, 'concrete'],\n",
       " [2, 'abstract'],\n",
       " [3, 'people'],\n",
       " [3, 'restrooms'],\n",
       " [3, 'courses'],\n",
       " [4, 'students'],\n",
       " [4, 'faculty members'],\n",
       " [4, 'library staff'],\n",
       " [5, 'teachers']]"
      ]
     },
     "execution_count": 91,
     "metadata": {},
     "output_type": "execute_result"
    }
   ],
   "source": [
    "hierarchyTree(ontology)"
   ]
  },
  {
   "cell_type": "markdown",
   "id": "e4a6248d-edde-4eb2-b278-1c6261730ba8",
   "metadata": {},
   "source": [
    "Se modifica el nombre de \"teachers\" por \"profesors\"."
   ]
  },
  {
   "cell_type": "code",
   "execution_count": 92,
   "id": "d8f654a9-ff62-44e9-897f-d8c1d0865d23",
   "metadata": {
    "execution": {
     "iopub.execute_input": "2021-12-16T05:00:11.004157Z",
     "iopub.status.busy": "2021-12-16T05:00:11.004097Z",
     "iopub.status.idle": "2021-12-16T05:00:11.006287Z",
     "shell.execute_reply": "2021-12-16T05:00:11.006014Z",
     "shell.execute_reply.started": "2021-12-16T05:00:11.004149Z"
    }
   },
   "outputs": [],
   "source": [
    "changeNameClass(\"teachers\",\"professors\",ontology)"
   ]
  },
  {
   "cell_type": "markdown",
   "id": "6e21a226-9e57-4945-927e-3d943b595815",
   "metadata": {
    "execution": {
     "iopub.execute_input": "2021-12-15T07:02:37.767005Z",
     "iopub.status.busy": "2021-12-15T07:02:37.766558Z",
     "iopub.status.idle": "2021-12-15T07:02:37.775091Z",
     "shell.execute_reply": "2021-12-15T07:02:37.773114Z",
     "shell.execute_reply.started": "2021-12-15T07:02:37.766975Z"
    }
   },
   "source": [
    "Se obtiene el arbol jerárquico con los nombres actualizados."
   ]
  },
  {
   "cell_type": "code",
   "execution_count": 93,
   "id": "2f551a9f-231c-437c-a0ed-9533e4dbfc8a",
   "metadata": {
    "execution": {
     "iopub.execute_input": "2021-12-16T05:00:11.006766Z",
     "iopub.status.busy": "2021-12-16T05:00:11.006704Z",
     "iopub.status.idle": "2021-12-16T05:00:11.009163Z",
     "shell.execute_reply": "2021-12-16T05:00:11.008899Z",
     "shell.execute_reply.started": "2021-12-16T05:00:11.006758Z"
    }
   },
   "outputs": [
    {
     "data": {
      "text/plain": [
       "[[0, 'top'],\n",
       " [1, 'objects'],\n",
       " [2, 'concrete'],\n",
       " [2, 'abstract'],\n",
       " [3, 'people'],\n",
       " [3, 'restrooms'],\n",
       " [3, 'courses'],\n",
       " [4, 'students'],\n",
       " [4, 'faculty members'],\n",
       " [4, 'library staff'],\n",
       " [5, 'professors']]"
      ]
     },
     "execution_count": 93,
     "metadata": {},
     "output_type": "execute_result"
    }
   ],
   "source": [
    "hierarchyTree(ontology)"
   ]
  },
  {
   "cell_type": "markdown",
   "id": "f1829afc-216b-492d-a10c-534216e6e4ba",
   "metadata": {},
   "source": [
    "### A.2 El nombre de un objeto"
   ]
  },
  {
   "cell_type": "markdown",
   "id": "3d1d8f68-09d0-4568-8425-df664e61a025",
   "metadata": {},
   "source": [
    "Modifica el nombre de una objeto nameObject (string), por otro newNameObject (string)."
   ]
  },
  {
   "cell_type": "code",
   "execution_count": 94,
   "id": "483d17fd-c3bd-4946-a107-dd1fa85556f7",
   "metadata": {
    "execution": {
     "iopub.execute_input": "2021-12-16T05:00:11.009540Z",
     "iopub.status.busy": "2021-12-16T05:00:11.009487Z",
     "iopub.status.idle": "2021-12-16T05:00:11.011552Z",
     "shell.execute_reply": "2021-12-16T05:00:11.011263Z",
     "shell.execute_reply.started": "2021-12-16T05:00:11.009533Z"
    }
   },
   "outputs": [],
   "source": [
    "def changeNameObject(nameObject,newNameObject,ontology):\n",
    "    nameClass = getObjectClass(nameObject,ontology) #Clase del objeto\n",
    "    if not nameClass: # Si no existe la clase en la ontolgia\n",
    "        #raise Error('Error: El objeto no está en la ontología.')\n",
    "        return False\n",
    "    indexClass = getIndex(nameClass, ontology) #Indice de la clase\n",
    "    indexObject = getIndexObject(nameObject, nameClass, ontology) #Indice del objeto\n",
    "    ontology[indexClass][\"individuals\"][indexObject][\"id\"] = newNameObject #Cambiar el nombre del objeto\n",
    "    saveOntology(ontology) #Guardar ontología"
   ]
  },
  {
   "cell_type": "markdown",
   "id": "2e886e8c-737f-4b80-b51e-618359743864",
   "metadata": {},
   "source": [
    "### Ejemplo 1"
   ]
  },
  {
   "cell_type": "markdown",
   "id": "2d7dd9d9-2996-49c3-ae83-c1f794d1965a",
   "metadata": {},
   "source": [
    "Se obtiene la extension de la clase \"library staff\"."
   ]
  },
  {
   "cell_type": "code",
   "execution_count": 95,
   "id": "795e8634-4e5c-4fa0-a5a5-998fa2030fdd",
   "metadata": {
    "execution": {
     "iopub.execute_input": "2021-12-16T05:00:11.011887Z",
     "iopub.status.busy": "2021-12-16T05:00:11.011835Z",
     "iopub.status.idle": "2021-12-16T05:00:11.013866Z",
     "shell.execute_reply": "2021-12-16T05:00:11.013618Z",
     "shell.execute_reply.started": "2021-12-16T05:00:11.011880Z"
    },
    "tags": []
   },
   "outputs": [
    {
     "data": {
      "text/plain": [
       "['tom', 'jose']"
      ]
     },
     "execution_count": 95,
     "metadata": {},
     "output_type": "execute_result"
    }
   ],
   "source": [
    "classExtention(\"library staff\", ontology)"
   ]
  },
  {
   "cell_type": "markdown",
   "id": "b86f6d48-5892-455b-a3cd-2c54ca17025e",
   "metadata": {},
   "source": [
    "El objeto \"jose\" cambia de nombre a \"roberto\"."
   ]
  },
  {
   "cell_type": "code",
   "execution_count": 96,
   "id": "3dd39683-6839-4237-ab4d-5fc37e807fc1",
   "metadata": {
    "execution": {
     "iopub.execute_input": "2021-12-16T05:00:11.014375Z",
     "iopub.status.busy": "2021-12-16T05:00:11.014273Z",
     "iopub.status.idle": "2021-12-16T05:00:11.016358Z",
     "shell.execute_reply": "2021-12-16T05:00:11.016143Z",
     "shell.execute_reply.started": "2021-12-16T05:00:11.014367Z"
    }
   },
   "outputs": [],
   "source": [
    "changeNameObject(\"jose\",\"roberto\",ontology)"
   ]
  },
  {
   "cell_type": "markdown",
   "id": "353353d6-defa-47b1-ae09-b7af75cc4693",
   "metadata": {},
   "source": [
    "Se obtiene la extension de la clase \"library staff\" actualizada."
   ]
  },
  {
   "cell_type": "code",
   "execution_count": 97,
   "id": "cc58173a-f3b5-4546-a77e-3e8824ffde92",
   "metadata": {
    "execution": {
     "iopub.execute_input": "2021-12-16T05:00:11.016786Z",
     "iopub.status.busy": "2021-12-16T05:00:11.016731Z",
     "iopub.status.idle": "2021-12-16T05:00:11.018852Z",
     "shell.execute_reply": "2021-12-16T05:00:11.018623Z",
     "shell.execute_reply.started": "2021-12-16T05:00:11.016778Z"
    },
    "tags": []
   },
   "outputs": [
    {
     "data": {
      "text/plain": [
       "['tom', 'roberto']"
      ]
     },
     "execution_count": 97,
     "metadata": {},
     "output_type": "execute_result"
    }
   ],
   "source": [
    "classExtention(\"library staff\", ontology)"
   ]
  },
  {
   "cell_type": "markdown",
   "id": "7c330352-e544-4839-83f9-09807501ac8a",
   "metadata": {},
   "source": [
    "### B.1 El valor de una propiedad específica de una clase"
   ]
  },
  {
   "cell_type": "markdown",
   "id": "487d4a76-9130-4c78-bfa7-9eb54dcef4ca",
   "metadata": {
    "execution": {
     "iopub.execute_input": "2021-12-15T07:06:49.253290Z",
     "iopub.status.busy": "2021-12-15T07:06:49.252933Z",
     "iopub.status.idle": "2021-12-15T07:06:49.262701Z",
     "shell.execute_reply": "2021-12-15T07:06:49.261560Z",
     "shell.execute_reply.started": "2021-12-15T07:06:49.253260Z"
    }
   },
   "source": [
    "Cambia el valor dentro de una propiedad especifica de una clase."
   ]
  },
  {
   "cell_type": "code",
   "execution_count": 98,
   "id": "c4164ca1-1a5c-4248-a112-31dc2a89c3eb",
   "metadata": {
    "execution": {
     "iopub.execute_input": "2021-12-16T05:00:11.019348Z",
     "iopub.status.busy": "2021-12-16T05:00:11.019285Z",
     "iopub.status.idle": "2021-12-16T05:00:11.023636Z",
     "shell.execute_reply": "2021-12-16T05:00:11.023386Z",
     "shell.execute_reply.started": "2021-12-16T05:00:11.019340Z"
    },
    "tags": []
   },
   "outputs": [],
   "source": [
    "def change_value_class_property(nameClass,propertyName,propertyValue,ontology,*,boolean = True, priority = None):\n",
    "    if not isInClass(nameClass,ontology): #Si la clase no esta en la ontología\n",
    "        #raise Error('Error: La Clase no esta en la ontologia.') #Mandar mensaje de error\n",
    "        return False\n",
    "    indxClass = getIndex(nameClass, ontology) #Indice de la clase \n",
    "    #Si hay prioridad la propiedad es de implicación\n",
    "    if priority is not None and type(propertyName) is list and type(propertyValue) is list: \n",
    "        newProperty = {'type':'imp',\n",
    "                       'antecedent':propertyName[0],\n",
    "                       'consequent':propertyValue[0],\n",
    "                       'value': propertyName[1] + [propertyValue[1]],\n",
    "                       'priority':priority}\n",
    "    # De otra forma la propiedad puede ser boleana o de valor\n",
    "    elif type(propertyName) is not list and type(propertyValue) is not list: \n",
    "        if type(propertyValue) is bool:\n",
    "            newProperty = {'type':\"bool\", #Solo se diferencian por su tipo\n",
    "                           'name':propertyName,\n",
    "                           'value':propertyValue, \n",
    "                           'priority':0} #La prioridad por default es 0\n",
    "        else:\n",
    "            newProperty = {'type':\"value\", #Solo se diferencian por su tipo\n",
    "                           'name':propertyName,\n",
    "                           'value':propertyValue,\n",
    "                           'bool': boolean,\n",
    "                           'priority':0} #La prioridad por default es 0\n",
    "    else:\n",
    "        #raise Error('Error: Si es propiedad de implicacion agregar prioridad.')\n",
    "        return False\n",
    "        \n",
    "    typePropertyNameField=\"\"\n",
    "    propertyName_=\"\"\n",
    "    if newProperty[\"type\"] == \"imp\":\n",
    "        if len(newProperty[\"antecedent\"]) == 1:\n",
    "            propertyName_= newProperty[\"antecedent\"][0]\n",
    "        else:\n",
    "            propertyName_= newProperty[\"antecedent\"]\n",
    "    else:    \n",
    "        propertyName_= newProperty[\"name\"]\n",
    "    \n",
    "    #busca la propiedad en la clase\n",
    "    confirmacion = False\n",
    "    for i,property_ in enumerate(ontology[indxClass]['properties']):\n",
    "        #identificar como se llama la llave con la que buscar el identificado de la propiedad\n",
    "        if property_[\"type\"] == \"imp\":     \n",
    "            typePropertyNameField = \"antecedent\"\n",
    "        else:\n",
    "            typePropertyNameField = \"name\"\n",
    "        #encuentra la propiedad actual con ese nombre\n",
    "        if property_[typePropertyNameField] == propertyName_: \n",
    "            if property_[\"type\"] == newProperty[\"type\"]:  #si las estrcuturas de propiedad son las mismas\n",
    "                ontology[indxClass]['properties'][i] = newProperty\n",
    "                saveOntology(ontology) #Guardar ontología solo cuando hubo cambios\n",
    "                confirmacion = True\n",
    "            else:\n",
    "                print(\"No son del mismo tipo\")\n",
    "                \n",
    "\n",
    "    return confirmacion"
   ]
  },
  {
   "cell_type": "markdown",
   "id": "8aaf73ca-0ac9-4818-a757-0afc398efd47",
   "metadata": {},
   "source": [
    "### Ejemplo 1"
   ]
  },
  {
   "cell_type": "markdown",
   "id": "d4e49a93-3dbc-46b4-a2e9-1a55bf9b3e8e",
   "metadata": {},
   "source": [
    "Propiedades de la clase \"students\"."
   ]
  },
  {
   "cell_type": "code",
   "execution_count": 99,
   "id": "7657772b-7b29-467b-8831-fa05e61ce552",
   "metadata": {
    "execution": {
     "iopub.execute_input": "2021-12-16T05:00:11.024065Z",
     "iopub.status.busy": "2021-12-16T05:00:11.024008Z",
     "iopub.status.idle": "2021-12-16T05:00:11.026843Z",
     "shell.execute_reply": "2021-12-16T05:00:11.026576Z",
     "shell.execute_reply.started": "2021-12-16T05:00:11.024057Z"
    },
    "tags": []
   },
   "outputs": [
    {
     "data": {
      "text/plain": [
       "[{'type': 'bool', 'name': 'sport', 'value': True, 'priority': 0},\n",
       " {'type': 'bool', 'name': 'fun', 'value': False, 'priority': 0},\n",
       " {'type': 'bool', 'name': 'teach', 'value': False, 'priority': 0},\n",
       " {'type': 'imp',\n",
       "  'antecedent': 'work',\n",
       "  'consequent': 'study',\n",
       "  'value': [True, True],\n",
       "  'priority': 3},\n",
       " {'type': 'imp',\n",
       "  'antecedent': 'like',\n",
       "  'consequent': 'study',\n",
       "  'value': [True, True],\n",
       "  'priority': 4}]"
      ]
     },
     "execution_count": 99,
     "metadata": {},
     "output_type": "execute_result"
    }
   ],
   "source": [
    "propertiesOfClass(\"students\", ontology)"
   ]
  },
  {
   "cell_type": "markdown",
   "id": "cad119dd-989c-4c1c-9eb4-3f7de19ef84b",
   "metadata": {},
   "source": [
    "Cambia el valor de la propiedad \"fun\" de negativa a positiva de la clase \"students\"."
   ]
  },
  {
   "cell_type": "code",
   "execution_count": 100,
   "id": "00fa387a-3fb7-4caa-a375-5ece3d165686",
   "metadata": {
    "execution": {
     "iopub.execute_input": "2021-12-16T05:00:11.027390Z",
     "iopub.status.busy": "2021-12-16T05:00:11.027324Z",
     "iopub.status.idle": "2021-12-16T05:00:11.029863Z",
     "shell.execute_reply": "2021-12-16T05:00:11.029645Z",
     "shell.execute_reply.started": "2021-12-16T05:00:11.027383Z"
    },
    "tags": []
   },
   "outputs": [
    {
     "data": {
      "text/plain": [
       "True"
      ]
     },
     "execution_count": 100,
     "metadata": {},
     "output_type": "execute_result"
    }
   ],
   "source": [
    "change_value_class_property(\"students\",\"fun\",True,ontology)"
   ]
  },
  {
   "cell_type": "markdown",
   "id": "7ee21cb5-3ded-42b4-bf18-4c0560d22d7b",
   "metadata": {},
   "source": [
    "Cambia el consecuente de la propiedad de implicacion con antecedente \"like\"."
   ]
  },
  {
   "cell_type": "code",
   "execution_count": 101,
   "id": "216ef0bd-042b-4eae-bb1c-56bf2ad3914a",
   "metadata": {
    "execution": {
     "iopub.execute_input": "2021-12-16T05:00:11.030280Z",
     "iopub.status.busy": "2021-12-16T05:00:11.030227Z",
     "iopub.status.idle": "2021-12-16T05:00:11.032877Z",
     "shell.execute_reply": "2021-12-16T05:00:11.032666Z",
     "shell.execute_reply.started": "2021-12-16T05:00:11.030273Z"
    },
    "tags": []
   },
   "outputs": [
    {
     "data": {
      "text/plain": [
       "True"
      ]
     },
     "execution_count": 101,
     "metadata": {},
     "output_type": "execute_result"
    }
   ],
   "source": [
    "change_value_class_property(\"students\",[[\"like\"],[True]],[\"work\", True],ontology, priority=0)"
   ]
  },
  {
   "cell_type": "markdown",
   "id": "d6ce97ad-5dce-4eb6-96ee-857d2285de71",
   "metadata": {},
   "source": [
    "Propiedades actualizadas de la clase \"students\"."
   ]
  },
  {
   "cell_type": "code",
   "execution_count": 102,
   "id": "d56b29f8-953c-41f6-b31d-a896ad219b34",
   "metadata": {
    "execution": {
     "iopub.execute_input": "2021-12-16T05:00:11.033333Z",
     "iopub.status.busy": "2021-12-16T05:00:11.033256Z",
     "iopub.status.idle": "2021-12-16T05:00:11.035732Z",
     "shell.execute_reply": "2021-12-16T05:00:11.035503Z",
     "shell.execute_reply.started": "2021-12-16T05:00:11.033325Z"
    },
    "tags": []
   },
   "outputs": [
    {
     "data": {
      "text/plain": [
       "[{'type': 'bool', 'name': 'sport', 'value': True, 'priority': 0},\n",
       " {'type': 'bool', 'name': 'fun', 'value': True, 'priority': 0},\n",
       " {'type': 'bool', 'name': 'teach', 'value': False, 'priority': 0},\n",
       " {'type': 'imp',\n",
       "  'antecedent': 'work',\n",
       "  'consequent': 'study',\n",
       "  'value': [True, True],\n",
       "  'priority': 3},\n",
       " {'type': 'imp',\n",
       "  'antecedent': 'like',\n",
       "  'consequent': 'work',\n",
       "  'value': [True, True],\n",
       "  'priority': 0}]"
      ]
     },
     "execution_count": 102,
     "metadata": {},
     "output_type": "execute_result"
    }
   ],
   "source": [
    "propertiesOfClass(\"students\", ontology)"
   ]
  },
  {
   "cell_type": "markdown",
   "id": "90cd01d4-faf2-46f2-b44d-00ad8ac9026a",
   "metadata": {},
   "source": [
    "### B.2 El valor de una propiedad específica de un objeto"
   ]
  },
  {
   "cell_type": "markdown",
   "id": "a13d9599-7747-4747-959f-7ecefbb0cd49",
   "metadata": {},
   "source": [
    "Cambia el valor dentro de una propiedad especifica de un objeto."
   ]
  },
  {
   "cell_type": "code",
   "execution_count": 103,
   "id": "c980a63d-64c2-447d-a04d-247ef258a660",
   "metadata": {
    "execution": {
     "iopub.execute_input": "2021-12-16T05:00:11.036233Z",
     "iopub.status.busy": "2021-12-16T05:00:11.036169Z",
     "iopub.status.idle": "2021-12-16T05:00:11.039234Z",
     "shell.execute_reply": "2021-12-16T05:00:11.038954Z",
     "shell.execute_reply.started": "2021-12-16T05:00:11.036225Z"
    },
    "tags": []
   },
   "outputs": [],
   "source": [
    "def change_value_object_property(nameObject,propertyName,propertyValue,ontology,*,boolean=True):\n",
    "    class_name = getObjectClass(nameObject,ontology)\n",
    "    object_index = getIndexObject(nameObject,class_name,ontology)\n",
    "    \n",
    "    if type(propertyValue) is bool:\n",
    "        newProperty = {'type':\"bool\", #Solo se diferencian por su tipo\n",
    "                       'name':propertyName,\n",
    "                       'value':propertyValue, \n",
    "                       'priority':0} #La prioridad por default es 0\n",
    "    else:\n",
    "        newProperty = {'type':\"value\", #Solo se diferencian por su tipo\n",
    "                       'name':propertyName,\n",
    "                       'value':propertyValue,\n",
    "                       'bool': boolean,\n",
    "                       'priority':0} #La prioridad por default es 0\n",
    "        \n",
    "    #busca la propiedad que va actualizar y aplica el cambio\n",
    "    confirmacion = False\n",
    "    for i,property_ in enumerate(ontology[getIndex(class_name,ontology)][\"individuals\"][object_index][\"properties\"]):\n",
    "        if property_[\"name\"] == propertyName :\n",
    "            if property_[\"type\"] == newProperty[\"type\"]:\n",
    "                ontology[getIndex(class_name,ontology)][\"individuals\"][object_index][\"properties\"][i] = newProperty\n",
    "                confirmacion = True\n",
    "                \n",
    "            else:\n",
    "                print(\"No son del mismo tipo\")\n",
    "    return confirmacion\n",
    "    saveOntology(ontology) #Guardar ontología"
   ]
  },
  {
   "cell_type": "markdown",
   "id": "5a2424bf-95ad-45ff-b64c-95396e4e38da",
   "metadata": {},
   "source": [
    "### Ejemplo 1"
   ]
  },
  {
   "cell_type": "markdown",
   "id": "70866398-e7be-4a53-a8db-7677b913b0bf",
   "metadata": {},
   "source": [
    "Propiedades del objeto \"anne\"."
   ]
  },
  {
   "cell_type": "code",
   "execution_count": 104,
   "id": "92ededa4-fb35-445f-b0b5-5c29e1552107",
   "metadata": {
    "execution": {
     "iopub.execute_input": "2021-12-16T05:00:11.039729Z",
     "iopub.status.busy": "2021-12-16T05:00:11.039667Z",
     "iopub.status.idle": "2021-12-16T05:00:11.042291Z",
     "shell.execute_reply": "2021-12-16T05:00:11.042023Z",
     "shell.execute_reply.started": "2021-12-16T05:00:11.039722Z"
    }
   },
   "outputs": [
    {
     "data": {
      "text/plain": [
       "[{'type': 'value', 'name': 'work', 'value': 'us', 'bool': True, 'priority': 0},\n",
       " {'type': 'value',\n",
       "  'name': 'study',\n",
       "  'value': 'mexico',\n",
       "  'bool': True,\n",
       "  'priority': 0},\n",
       " {'type': 'bool', 'name': 'sport', 'value': True, 'priority': 0},\n",
       " {'type': 'bool', 'name': 'fun', 'value': True, 'priority': 0},\n",
       " {'type': 'bool', 'name': 'teach', 'value': False, 'priority': 0}]"
      ]
     },
     "execution_count": 104,
     "metadata": {},
     "output_type": "execute_result"
    }
   ],
   "source": [
    "propertiesOfObject(\"anne\", ontology)"
   ]
  },
  {
   "cell_type": "markdown",
   "id": "af932fdb-d434-4be9-93c0-f7bf0f747f88",
   "metadata": {},
   "source": [
    "Se cambia el valor de la propiedad study del objeto \"anne\"."
   ]
  },
  {
   "cell_type": "code",
   "execution_count": 105,
   "id": "be02310c-1172-4ef6-ba79-be99079bc97c",
   "metadata": {
    "execution": {
     "iopub.execute_input": "2021-12-16T05:00:11.042746Z",
     "iopub.status.busy": "2021-12-16T05:00:11.042689Z",
     "iopub.status.idle": "2021-12-16T05:00:11.044923Z",
     "shell.execute_reply": "2021-12-16T05:00:11.044695Z",
     "shell.execute_reply.started": "2021-12-16T05:00:11.042738Z"
    }
   },
   "outputs": [
    {
     "data": {
      "text/plain": [
       "True"
      ]
     },
     "execution_count": 105,
     "metadata": {},
     "output_type": "execute_result"
    }
   ],
   "source": [
    "change_value_object_property(\"anne\",\"study\",\"uk\",ontology)"
   ]
  },
  {
   "cell_type": "markdown",
   "id": "e1e13379-9b28-433e-8ab5-7e774c0651d9",
   "metadata": {},
   "source": [
    "Propiedades del objeto \"anne\" actualizadas."
   ]
  },
  {
   "cell_type": "code",
   "execution_count": 106,
   "id": "3e55d4a3-8b6a-492c-970b-816e075b6018",
   "metadata": {
    "execution": {
     "iopub.execute_input": "2021-12-16T05:00:11.045332Z",
     "iopub.status.busy": "2021-12-16T05:00:11.045280Z",
     "iopub.status.idle": "2021-12-16T05:00:11.047627Z",
     "shell.execute_reply": "2021-12-16T05:00:11.047356Z",
     "shell.execute_reply.started": "2021-12-16T05:00:11.045324Z"
    },
    "tags": []
   },
   "outputs": [
    {
     "data": {
      "text/plain": [
       "[{'type': 'value', 'name': 'work', 'value': 'us', 'bool': True, 'priority': 0},\n",
       " {'type': 'value',\n",
       "  'name': 'study',\n",
       "  'value': 'uk',\n",
       "  'bool': True,\n",
       "  'priority': 0},\n",
       " {'type': 'bool', 'name': 'sport', 'value': True, 'priority': 0},\n",
       " {'type': 'bool', 'name': 'fun', 'value': True, 'priority': 0},\n",
       " {'type': 'bool', 'name': 'teach', 'value': False, 'priority': 0}]"
      ]
     },
     "execution_count": 106,
     "metadata": {},
     "output_type": "execute_result"
    }
   ],
   "source": [
    "propertiesOfObject(\"anne\", ontology)"
   ]
  },
  {
   "cell_type": "markdown",
   "id": "62cf5171-d6bb-42fe-b7ca-edb5a99ce8cc",
   "metadata": {
    "tags": []
   },
   "source": [
    "### C.1 Con quién mantiene una relación específica una clase"
   ]
  },
  {
   "cell_type": "markdown",
   "id": "94fb7fa5-2147-4e7e-90db-bb43425d89ac",
   "metadata": {},
   "source": [
    "Cambia el objeto o clase con quien mantiene una relacion especifica una clase."
   ]
  },
  {
   "cell_type": "code",
   "execution_count": 107,
   "id": "43eaf0ee-5467-4c68-84a2-4e61772ef58e",
   "metadata": {
    "execution": {
     "iopub.execute_input": "2021-12-16T05:00:11.048112Z",
     "iopub.status.busy": "2021-12-16T05:00:11.048050Z",
     "iopub.status.idle": "2021-12-16T05:00:11.050661Z",
     "shell.execute_reply": "2021-12-16T05:00:11.050368Z",
     "shell.execute_reply.started": "2021-12-16T05:00:11.048104Z"
    },
    "tags": []
   },
   "outputs": [],
   "source": [
    "def changeClassRelation(nameClass, nameRelation, newClasses_Objects, ontology):\n",
    "    \n",
    "    if not isInClass(nameClass, ontology):\n",
    "        ##raise Error('Error: La clase no esta en la ontologia.')\n",
    "        return False\n",
    "        \n",
    "    if type(newClasses_Objects) is not list:\n",
    "        newClasses_Objects = [newClasses_Objects]\n",
    "    \n",
    "    for element in newClasses_Objects:\n",
    "        if not isInClass(element, ontology):\n",
    "            if not getObjectClass(element,ontology):\n",
    "                #raise Error('Error: La clase o individuo para asignar esa relacion no esta en la ontologia.')\n",
    "                return False\n",
    "        \n",
    "    # Indice de la clase\n",
    "    indxClass = getIndex(nameClass, ontology)\n",
    "    \n",
    "    for relation in ontology[indxClass]['relations']:\n",
    "        if relation['subject'] == nameRelation:\n",
    "            if len(newClasses_Objects) == 1:\n",
    "                relation['object'] = newClasses_Objects[0]\n",
    "            else:\n",
    "                relation['object'] = newClasses_Objects\n",
    "            saveOntology(ontology)\n",
    "            return\n",
    "    \n",
    "    #raise Error('Error: La relacion no esta en la clase de la ontologia.')\n",
    "    return False"
   ]
  },
  {
   "cell_type": "markdown",
   "id": "d4d6bba2-ba96-485a-bfee-677b4232686d",
   "metadata": {},
   "source": [
    "### Ejemplo 1"
   ]
  },
  {
   "cell_type": "markdown",
   "id": "647c73f7-599c-441a-8d35-4f43ceef885f",
   "metadata": {},
   "source": [
    "Relaciones de la clase \"profesors\"."
   ]
  },
  {
   "cell_type": "code",
   "execution_count": 108,
   "id": "159fef03-7816-4f11-8222-0bc92a7aaa19",
   "metadata": {
    "execution": {
     "iopub.execute_input": "2021-12-16T05:00:11.051217Z",
     "iopub.status.busy": "2021-12-16T05:00:11.051112Z",
     "iopub.status.idle": "2021-12-16T05:00:11.053349Z",
     "shell.execute_reply": "2021-12-16T05:00:11.053113Z",
     "shell.execute_reply.started": "2021-12-16T05:00:11.051209Z"
    },
    "tags": []
   },
   "outputs": [
    {
     "data": {
      "text/plain": [
       "[{'type': 'value',\n",
       "  'subject': 'lectures',\n",
       "  'object': 'courses',\n",
       "  'value': True,\n",
       "  'priority': 0}]"
      ]
     },
     "execution_count": 108,
     "metadata": {},
     "output_type": "execute_result"
    }
   ],
   "source": [
    "allRelationshipsOneClass(\"professors\", ontology)"
   ]
  },
  {
   "cell_type": "markdown",
   "id": "fedaa03d-be95-4227-bf70-7e9ee9a8bfb8",
   "metadata": {},
   "source": [
    "Cambia la clase con la que mantiene la relacion \"lectures\"."
   ]
  },
  {
   "cell_type": "code",
   "execution_count": 109,
   "id": "07b70654-65fb-431a-8234-48f496e8188a",
   "metadata": {
    "execution": {
     "iopub.execute_input": "2021-12-16T05:00:11.053802Z",
     "iopub.status.busy": "2021-12-16T05:00:11.053661Z",
     "iopub.status.idle": "2021-12-16T05:00:11.056075Z",
     "shell.execute_reply": "2021-12-16T05:00:11.055792Z",
     "shell.execute_reply.started": "2021-12-16T05:00:11.053793Z"
    },
    "tags": []
   },
   "outputs": [],
   "source": [
    "changeClassRelation(\"professors\", \"lectures\", \"abstract\", ontology)"
   ]
  },
  {
   "cell_type": "markdown",
   "id": "174d1f9a-77fc-4e7d-8fa5-02adb40be018",
   "metadata": {},
   "source": [
    "Relaciones actualizadas de la clase \"profesors\"."
   ]
  },
  {
   "cell_type": "code",
   "execution_count": 110,
   "id": "a6c6f76f-dd1b-46c0-a018-2ddf8bce79af",
   "metadata": {
    "execution": {
     "iopub.execute_input": "2021-12-16T05:00:11.056554Z",
     "iopub.status.busy": "2021-12-16T05:00:11.056497Z",
     "iopub.status.idle": "2021-12-16T05:00:11.058943Z",
     "shell.execute_reply": "2021-12-16T05:00:11.058680Z",
     "shell.execute_reply.started": "2021-12-16T05:00:11.056546Z"
    },
    "tags": []
   },
   "outputs": [
    {
     "data": {
      "text/plain": [
       "[{'type': 'value',\n",
       "  'subject': 'lectures',\n",
       "  'object': 'abstract',\n",
       "  'value': True,\n",
       "  'priority': 0}]"
      ]
     },
     "execution_count": 110,
     "metadata": {},
     "output_type": "execute_result"
    }
   ],
   "source": [
    "allRelationshipsOneClass(\"professors\", ontology)"
   ]
  },
  {
   "cell_type": "markdown",
   "id": "251d5b10-2a87-4974-83b6-a19e91b2d7b7",
   "metadata": {},
   "source": [
    "### C.2 Con quién mantiene una relacióne específica un objeto"
   ]
  },
  {
   "cell_type": "markdown",
   "id": "94035dfb-3902-4b57-b90c-62ea90d5b393",
   "metadata": {},
   "source": [
    "Cambiar con quien mantiene una relación específica un objeto"
   ]
  },
  {
   "cell_type": "code",
   "execution_count": 111,
   "id": "bd305db8-0bc2-4c28-abf6-f3d4070d14c6",
   "metadata": {
    "execution": {
     "iopub.execute_input": "2021-12-16T05:00:11.059438Z",
     "iopub.status.busy": "2021-12-16T05:00:11.059371Z",
     "iopub.status.idle": "2021-12-16T05:00:11.062518Z",
     "shell.execute_reply": "2021-12-16T05:00:11.062252Z",
     "shell.execute_reply.started": "2021-12-16T05:00:11.059430Z"
    },
    "tags": []
   },
   "outputs": [],
   "source": [
    "def changeObjectRelation(nameObject, nameRelation, newClasses_Objects, ontology):\n",
    "    # Clase directa del individuo\n",
    "    clase = getObjectClass(nameObject,ontology) \n",
    "    # Si no pertenece a ninguna clase mandar mensaje de error\n",
    "    if not clase: \n",
    "        #raise Error('Error: El individuo no esta en la ontologia.')\n",
    "        return False\n",
    "    \n",
    "    # Si el individuo para asignar la relacion no existe manda error\n",
    "    if type(newClasses_Objects) is not list:\n",
    "        newClasses_Objects = [newClasses_Objects]\n",
    "        \n",
    "    for element in newClasses_Objects:\n",
    "        if not isInClass(element, ontology):\n",
    "            if not getObjectClass(element,ontology):\n",
    "                #raise Error('Error: La clase o individuo para asignar esa relacion no esta en la ontologia.')\n",
    "                return False\n",
    "            \n",
    "    # Indice de la clase\n",
    "    indxClass = getIndex(clase, ontology)\n",
    "    # Indice del individuo en la clase\n",
    "    indxObject = getIndexObject(nameObject, clase, ontology)\n",
    "    \n",
    "    for relation in ontology[indxClass]['individuals'][indxObject]['relations']:\n",
    "        if relation['subject'] == nameRelation:\n",
    "            if len(newClasses_Objects) == 1:\n",
    "                relation['object'] = newClasses_Objects[0]\n",
    "            else:\n",
    "                relation['object'] = newClasses_Objects\n",
    "            saveOntology(ontology) #Guardar ontología\n",
    "            return \n",
    "        \n",
    "    #raise Error('Error: La relacion no esta en el individuo de la ontologia.')\n",
    "    return False"
   ]
  },
  {
   "cell_type": "markdown",
   "id": "4e1633ea-633f-427e-b8c0-b6df627f1c47",
   "metadata": {},
   "source": [
    "### Ejemplo 1"
   ]
  },
  {
   "cell_type": "markdown",
   "id": "a92a7b4c-bb1f-466a-9499-32d95e3d9eed",
   "metadata": {},
   "source": [
    "Relaciones del objeto \"tom\"."
   ]
  },
  {
   "cell_type": "code",
   "execution_count": 112,
   "id": "3529a0c4-96c5-4283-b850-beb2edcdb90d",
   "metadata": {
    "execution": {
     "iopub.execute_input": "2021-12-16T05:00:11.063064Z",
     "iopub.status.busy": "2021-12-16T05:00:11.062961Z",
     "iopub.status.idle": "2021-12-16T05:00:11.065055Z",
     "shell.execute_reply": "2021-12-16T05:00:11.064822Z",
     "shell.execute_reply.started": "2021-12-16T05:00:11.063056Z"
    },
    "tags": []
   },
   "outputs": [
    {
     "data": {
      "text/plain": [
       "[{'type': 'value',\n",
       "  'subject': 'lectures',\n",
       "  'object': ['prog'],\n",
       "  'value': True,\n",
       "  'priority': 0}]"
      ]
     },
     "execution_count": 112,
     "metadata": {},
     "output_type": "execute_result"
    }
   ],
   "source": [
    "allRelationshipsOneObject(\"tom\", ontology)"
   ]
  },
  {
   "cell_type": "markdown",
   "id": "6ff6df4e-e982-47c5-9884-1e3ea5801385",
   "metadata": {},
   "source": [
    "Cambia con quien mantiene la relacion \"lectures\"."
   ]
  },
  {
   "cell_type": "code",
   "execution_count": 113,
   "id": "898984b7-bb81-4bd8-aa44-13186d229634",
   "metadata": {
    "execution": {
     "iopub.execute_input": "2021-12-16T05:00:11.065550Z",
     "iopub.status.busy": "2021-12-16T05:00:11.065484Z",
     "iopub.status.idle": "2021-12-16T05:00:11.067628Z",
     "shell.execute_reply": "2021-12-16T05:00:11.067405Z",
     "shell.execute_reply.started": "2021-12-16T05:00:11.065541Z"
    },
    "tags": []
   },
   "outputs": [],
   "source": [
    "changeObjectRelation(\"tom\", \"lectures\", [\"prog\", \"ai\"], ontology)"
   ]
  },
  {
   "cell_type": "markdown",
   "id": "e03eae80-234d-466f-9dbf-3eeaeaf34f12",
   "metadata": {},
   "source": [
    "Relaciones actualizadas del objeto \"tom\"."
   ]
  },
  {
   "cell_type": "code",
   "execution_count": 114,
   "id": "19490668-94d3-45d1-9f70-b841879c662e",
   "metadata": {
    "execution": {
     "iopub.execute_input": "2021-12-16T05:00:11.068063Z",
     "iopub.status.busy": "2021-12-16T05:00:11.067973Z",
     "iopub.status.idle": "2021-12-16T05:00:11.070052Z",
     "shell.execute_reply": "2021-12-16T05:00:11.069828Z",
     "shell.execute_reply.started": "2021-12-16T05:00:11.068055Z"
    }
   },
   "outputs": [
    {
     "data": {
      "text/plain": [
       "[{'type': 'value',\n",
       "  'subject': 'lectures',\n",
       "  'object': ['prog', 'ai'],\n",
       "  'value': True,\n",
       "  'priority': 0}]"
      ]
     },
     "execution_count": 114,
     "metadata": {},
     "output_type": "execute_result"
    }
   ],
   "source": [
    "allRelationshipsOneObject(\"tom\", ontology)"
   ]
  },
  {
   "cell_type": "markdown",
   "id": "a4148fe7-6de9-4175-9915-db7e620f00be",
   "metadata": {},
   "source": [
    "## Arbol Final"
   ]
  },
  {
   "cell_type": "markdown",
   "id": "c345997c-0f62-4a06-8285-f1ada1408fb3",
   "metadata": {},
   "source": [
    "Por último el árbol de la ontología resultante se muestra en la siguiente figura, donde se pueden observar todos los cambios realizados por los predicados anteriores."
   ]
  },
  {
   "cell_type": "markdown",
   "id": "b8fd56bb-c745-45fe-8a3a-cbfffd1fd64d",
   "metadata": {},
   "source": [
    "![](arbolFinal.png)"
   ]
  }
 ],
 "metadata": {
  "kernelspec": {
   "display_name": "Python 3 (ipykernel)",
   "language": "python",
   "name": "python3"
  },
  "language_info": {
   "codemirror_mode": {
    "name": "ipython",
    "version": 3
   },
   "file_extension": ".py",
   "mimetype": "text/x-python",
   "name": "python",
   "nbconvert_exporter": "python",
   "pygments_lexer": "ipython3",
   "version": "3.11.6"
  },
  "toc-autonumbering": false,
  "toc-showmarkdowntxt": false,
  "toc-showtags": false
 },
 "nbformat": 4,
 "nbformat_minor": 5
}
